{
  "nbformat": 4,
  "nbformat_minor": 0,
  "metadata": {
    "colab": {
      "provenance": [],
      "gpuType": "T4",
      "include_colab_link": true
    },
    "kernelspec": {
      "name": "python3",
      "display_name": "Python 3"
    },
    "language_info": {
      "name": "python"
    },
    "accelerator": "GPU"
  },
  "cells": [
    {
      "cell_type": "markdown",
      "metadata": {
        "id": "view-in-github",
        "colab_type": "text"
      },
      "source": [
        "<a href=\"https://colab.research.google.com/github/SushilKokare/DeepLearningStudy/blob/main/7_pretrained_model.ipynb\" target=\"_parent\"><img src=\"https://colab.research.google.com/assets/colab-badge.svg\" alt=\"Open In Colab\"/></a>"
      ]
    },
    {
      "cell_type": "code",
      "execution_count": 1,
      "metadata": {
        "id": "JsYaYuHtBJy8",
        "colab": {
          "base_uri": "https://localhost:8080/"
        },
        "outputId": "e8f01013-6feb-4747-9980-99de0914b23e"
      },
      "outputs": [
        {
          "output_type": "stream",
          "name": "stdout",
          "text": [
            "Mounted at /content/drive\n"
          ]
        }
      ],
      "source": [
        "from google.colab import drive\n",
        "drive.mount('/content/drive')"
      ]
    },
    {
      "cell_type": "markdown",
      "source": [
        "### Adding Densly connected classifier on top of the convulational base"
      ],
      "metadata": {
        "id": "EDtcA1HTBYoZ"
      }
    },
    {
      "cell_type": "code",
      "source": [
        "from keras.models import Sequential\n",
        "from keras import layers as lrs\n",
        "from keras.applications import VGG16"
      ],
      "metadata": {
        "id": "NHIW4V4qBpG4"
      },
      "execution_count": 2,
      "outputs": []
    },
    {
      "cell_type": "code",
      "source": [
        "conv_base = VGG16(weights='imagenet',\n",
        "                  include_top=False,input_shape=(150,150,3))"
      ],
      "metadata": {
        "id": "lokLUqyCBzVR",
        "colab": {
          "base_uri": "https://localhost:8080/"
        },
        "outputId": "07620d4f-eb1b-43a0-c8b6-8065521f3c1b"
      },
      "execution_count": 3,
      "outputs": [
        {
          "output_type": "stream",
          "name": "stdout",
          "text": [
            "Downloading data from https://storage.googleapis.com/tensorflow/keras-applications/vgg16/vgg16_weights_tf_dim_ordering_tf_kernels_notop.h5\n",
            "58889256/58889256 [==============================] - 0s 0us/step\n"
          ]
        }
      ]
    },
    {
      "cell_type": "code",
      "source": [
        "model = Sequential()\n",
        "model.add(conv_base)\n",
        "model.add(lrs.Flatten())\n",
        "model.add(lrs.Dense(256,activation='relu'))\n",
        "# model.add(lrs.Dropout(0.5))\n",
        "model.add(lrs.Dense(1,activation='sigmoid'))"
      ],
      "metadata": {
        "id": "lwhjsEMFCBom"
      },
      "execution_count": 4,
      "outputs": []
    },
    {
      "cell_type": "code",
      "source": [
        "model.summary()"
      ],
      "metadata": {
        "colab": {
          "base_uri": "https://localhost:8080/"
        },
        "id": "DCPCdPSoCDwW",
        "outputId": "f0c7a8dd-89a3-4c8b-aab8-58484f8ada02"
      },
      "execution_count": 5,
      "outputs": [
        {
          "output_type": "stream",
          "name": "stdout",
          "text": [
            "Model: \"sequential\"\n",
            "_________________________________________________________________\n",
            " Layer (type)                Output Shape              Param #   \n",
            "=================================================================\n",
            " vgg16 (Functional)          (None, 4, 4, 512)         14714688  \n",
            "                                                                 \n",
            " flatten (Flatten)           (None, 8192)              0         \n",
            "                                                                 \n",
            " dense (Dense)               (None, 256)               2097408   \n",
            "                                                                 \n",
            " dense_1 (Dense)             (None, 1)                 257       \n",
            "                                                                 \n",
            "=================================================================\n",
            "Total params: 16812353 (64.13 MB)\n",
            "Trainable params: 16812353 (64.13 MB)\n",
            "Non-trainable params: 0 (0.00 Byte)\n",
            "_________________________________________________________________\n"
          ]
        }
      ]
    },
    {
      "cell_type": "code",
      "source": [
        "print('Nummber of trainable weights before freezing the conv_base ',len(model.trainable_weights))"
      ],
      "metadata": {
        "colab": {
          "base_uri": "https://localhost:8080/"
        },
        "id": "i8-Id1r0CVfL",
        "outputId": "5da8fa23-ecb6-472f-fc06-127b4d1f0703"
      },
      "execution_count": 6,
      "outputs": [
        {
          "output_type": "stream",
          "name": "stdout",
          "text": [
            "Nummber of trainable weights before freezing the conv_base  30\n"
          ]
        }
      ]
    },
    {
      "cell_type": "code",
      "source": [
        "conv_base.trainable = False"
      ],
      "metadata": {
        "id": "O96DW2siCq8V"
      },
      "execution_count": 7,
      "outputs": []
    },
    {
      "cell_type": "code",
      "source": [
        "print('Nummber of trainable weights after freezing the conv_base ',len(model.trainable_weights))"
      ],
      "metadata": {
        "colab": {
          "base_uri": "https://localhost:8080/"
        },
        "id": "D9_Lu3kuCntX",
        "outputId": "955f9e02-c3af-46bc-e8ad-3471b76547d0"
      },
      "execution_count": 8,
      "outputs": [
        {
          "output_type": "stream",
          "name": "stdout",
          "text": [
            "Nummber of trainable weights after freezing the conv_base  4\n"
          ]
        }
      ]
    },
    {
      "cell_type": "code",
      "source": [],
      "metadata": {
        "id": "5pDWk2rPENew"
      },
      "execution_count": 8,
      "outputs": []
    },
    {
      "cell_type": "code",
      "source": [
        "import matplotlib.pyplot as plt\n",
        "\n",
        "def plots_with_val(history):\n",
        "  val_acc = history.history['val_acc']\n",
        "  acc = history.history['acc']\n",
        "\n",
        "  val_loss = history.history['val_loss']\n",
        "  loss = history.history['loss']\n",
        "\n",
        "  epochs = history.epoch\n",
        "\n",
        "  fig,axs = plt.subplots(1,2, figsize=(10, 3))\n",
        "  axs[0].plot(epochs,val_acc,'r--',label='Val Acc')\n",
        "  axs[0].plot(epochs,acc,'b',label='Train Acc')\n",
        "  axs[0].legend()\n",
        "  axs[0].set_xlabel('Epochs')\n",
        "  axs[0].set_ylabel('Accuracy')\n",
        "  axs[0].set_title('Accuracy')\n",
        "\n",
        "\n",
        "  axs[1].plot(epochs,val_loss,'r--',label='Val Loss')\n",
        "  axs[1].plot(epochs,loss,'b',label='Train Loss')\n",
        "  axs[1].legend()\n",
        "  axs[1].set_xlabel('Epochs')\n",
        "  axs[1].set_ylabel('Loss')\n",
        "  axs[1].set_title('Loss')\n",
        "\n",
        "  plt.show()"
      ],
      "metadata": {
        "id": "U5YjtIBSEOsz"
      },
      "execution_count": 9,
      "outputs": []
    },
    {
      "cell_type": "markdown",
      "source": [
        "### Training the model end to end with a frozen conv base"
      ],
      "metadata": {
        "id": "8xDxmWDtCt7v"
      }
    },
    {
      "cell_type": "code",
      "source": [
        "from keras.preprocessing.image import ImageDataGenerator\n",
        "from keras import optimizers"
      ],
      "metadata": {
        "id": "L7uNuGmiDAYy"
      },
      "execution_count": 10,
      "outputs": []
    },
    {
      "cell_type": "code",
      "source": [
        "train_dir = '/content/drive/MyDrive/Colab Notebooks/Deep Learning Study Book/cats_and_dogs_small/train'\n",
        "test_dir = '/content/drive/MyDrive/Colab Notebooks/Deep Learning Study Book/cats_and_dogs_small/test'\n",
        "validation_dir = '/content/drive/MyDrive/Colab Notebooks/Deep Learning Study Book/cats_and_dogs_small/validation'"
      ],
      "metadata": {
        "id": "oqDuSWmpDsY7"
      },
      "execution_count": 11,
      "outputs": []
    },
    {
      "cell_type": "code",
      "source": [
        "train_datagen = ImageDataGenerator(\n",
        "    rescale = 1./255,\n",
        "    rotation_range=40,\n",
        "    width_shift_range=0.2,\n",
        "    height_shift_range=0.2,\n",
        "    shear_range=0.2,\n",
        "    zoom_range=0.2,\n",
        "    horizontal_flip=True,\n",
        "    vertical_flip=True,\n",
        "    fill_mode='nearest'\n",
        ")\n",
        "\n",
        "test_datagen = ImageDataGenerator(rescale=1./255)"
      ],
      "metadata": {
        "id": "UP2SGSjuDhFm"
      },
      "execution_count": 12,
      "outputs": []
    },
    {
      "cell_type": "code",
      "source": [
        "train_gen = train_datagen.flow_from_directory(\n",
        "    train_dir,\n",
        "    target_size=(150,150),\n",
        "    batch_size=20,\n",
        "    class_mode='binary'\n",
        ")"
      ],
      "metadata": {
        "colab": {
          "base_uri": "https://localhost:8080/"
        },
        "id": "Z6wrgfQrDheS",
        "outputId": "fddea6d3-bcf4-4fb6-d96b-ca46d4dc5bbe"
      },
      "execution_count": 13,
      "outputs": [
        {
          "output_type": "stream",
          "name": "stdout",
          "text": [
            "Found 2000 images belonging to 2 classes.\n"
          ]
        }
      ]
    },
    {
      "cell_type": "code",
      "source": [
        "validation_gen = test_datagen.flow_from_directory(\n",
        "    validation_dir,\n",
        "    target_size=(150,150),\n",
        "    batch_size=20,\n",
        "    class_mode='binary'\n",
        ")"
      ],
      "metadata": {
        "colab": {
          "base_uri": "https://localhost:8080/"
        },
        "id": "ARXcew_nD0Kz",
        "outputId": "30af92b5-ce1f-471c-e118-868d2bc8db85"
      },
      "execution_count": 14,
      "outputs": [
        {
          "output_type": "stream",
          "name": "stdout",
          "text": [
            "Found 1000 images belonging to 2 classes.\n"
          ]
        }
      ]
    },
    {
      "cell_type": "code",
      "source": [
        "model.compile(optimizer=optimizers.RMSprop(2e-5),\n",
        "              loss='binary_crossentropy',\n",
        "              metrics=['acc'])"
      ],
      "metadata": {
        "id": "ddZ1o6LXEUan"
      },
      "execution_count": 15,
      "outputs": []
    },
    {
      "cell_type": "code",
      "source": [
        "history = model.fit_generator(\n",
        "    train_gen,\n",
        "    steps_per_epoch=100,\n",
        "    epochs=30,\n",
        "    validation_data=validation_gen,\n",
        "    validation_steps=50\n",
        ")"
      ],
      "metadata": {
        "colab": {
          "base_uri": "https://localhost:8080/"
        },
        "id": "RFJ5IbkYD_H6",
        "outputId": "4a7abb89-4fb5-4536-a939-13f173e33194"
      },
      "execution_count": 16,
      "outputs": [
        {
          "output_type": "stream",
          "name": "stderr",
          "text": [
            "<ipython-input-16-ad141dc79e1a>:1: UserWarning: `Model.fit_generator` is deprecated and will be removed in a future version. Please use `Model.fit`, which supports generators.\n",
            "  history = model.fit_generator(\n"
          ]
        },
        {
          "output_type": "stream",
          "name": "stdout",
          "text": [
            "Epoch 1/30\n",
            "100/100 [==============================] - 628s 6s/step - loss: 0.6388 - acc: 0.6315 - val_loss: 0.5413 - val_acc: 0.7110\n",
            "Epoch 2/30\n",
            "100/100 [==============================] - 25s 253ms/step - loss: 0.5538 - acc: 0.7330 - val_loss: 0.4363 - val_acc: 0.8280\n",
            "Epoch 3/30\n",
            "100/100 [==============================] - 26s 256ms/step - loss: 0.5177 - acc: 0.7545 - val_loss: 0.4027 - val_acc: 0.8330\n",
            "Epoch 4/30\n",
            "100/100 [==============================] - 25s 254ms/step - loss: 0.4906 - acc: 0.7515 - val_loss: 0.3778 - val_acc: 0.8280\n",
            "Epoch 5/30\n",
            "100/100 [==============================] - 26s 255ms/step - loss: 0.4738 - acc: 0.7765 - val_loss: 0.3665 - val_acc: 0.8320\n",
            "Epoch 6/30\n",
            "100/100 [==============================] - 25s 251ms/step - loss: 0.4572 - acc: 0.7880 - val_loss: 0.3583 - val_acc: 0.8390\n",
            "Epoch 7/30\n",
            "100/100 [==============================] - 25s 254ms/step - loss: 0.4511 - acc: 0.7865 - val_loss: 0.3534 - val_acc: 0.8420\n",
            "Epoch 8/30\n",
            "100/100 [==============================] - 25s 250ms/step - loss: 0.4442 - acc: 0.7900 - val_loss: 0.3501 - val_acc: 0.8510\n",
            "Epoch 9/30\n",
            "100/100 [==============================] - 25s 254ms/step - loss: 0.4141 - acc: 0.8140 - val_loss: 0.3322 - val_acc: 0.8380\n",
            "Epoch 10/30\n",
            "100/100 [==============================] - 25s 249ms/step - loss: 0.4309 - acc: 0.8010 - val_loss: 0.3273 - val_acc: 0.8460\n",
            "Epoch 11/30\n",
            "100/100 [==============================] - 26s 258ms/step - loss: 0.4137 - acc: 0.8190 - val_loss: 0.3265 - val_acc: 0.8430\n",
            "Epoch 12/30\n",
            "100/100 [==============================] - 25s 250ms/step - loss: 0.4338 - acc: 0.7970 - val_loss: 0.3230 - val_acc: 0.8470\n",
            "Epoch 13/30\n",
            "100/100 [==============================] - 26s 256ms/step - loss: 0.4174 - acc: 0.8145 - val_loss: 0.3232 - val_acc: 0.8520\n",
            "Epoch 14/30\n",
            "100/100 [==============================] - 25s 247ms/step - loss: 0.4030 - acc: 0.8225 - val_loss: 0.3288 - val_acc: 0.8480\n",
            "Epoch 15/30\n",
            "100/100 [==============================] - 26s 258ms/step - loss: 0.4027 - acc: 0.8165 - val_loss: 0.3153 - val_acc: 0.8560\n",
            "Epoch 16/30\n",
            "100/100 [==============================] - 26s 257ms/step - loss: 0.3953 - acc: 0.8190 - val_loss: 0.3111 - val_acc: 0.8570\n",
            "Epoch 17/30\n",
            "100/100 [==============================] - 25s 253ms/step - loss: 0.3882 - acc: 0.8310 - val_loss: 0.3061 - val_acc: 0.8560\n",
            "Epoch 18/30\n",
            "100/100 [==============================] - 25s 254ms/step - loss: 0.3969 - acc: 0.8230 - val_loss: 0.3018 - val_acc: 0.8570\n",
            "Epoch 19/30\n",
            "100/100 [==============================] - 25s 249ms/step - loss: 0.3936 - acc: 0.8280 - val_loss: 0.2977 - val_acc: 0.8620\n",
            "Epoch 20/30\n",
            "100/100 [==============================] - 25s 253ms/step - loss: 0.3775 - acc: 0.8365 - val_loss: 0.2998 - val_acc: 0.8600\n",
            "Epoch 21/30\n",
            "100/100 [==============================] - 25s 247ms/step - loss: 0.3876 - acc: 0.8285 - val_loss: 0.3034 - val_acc: 0.8580\n",
            "Epoch 22/30\n",
            "100/100 [==============================] - 25s 254ms/step - loss: 0.3778 - acc: 0.8345 - val_loss: 0.3070 - val_acc: 0.8630\n",
            "Epoch 23/30\n",
            "100/100 [==============================] - 25s 251ms/step - loss: 0.3799 - acc: 0.8235 - val_loss: 0.3078 - val_acc: 0.8640\n",
            "Epoch 24/30\n",
            "100/100 [==============================] - 26s 257ms/step - loss: 0.3752 - acc: 0.8240 - val_loss: 0.3077 - val_acc: 0.8640\n",
            "Epoch 25/30\n",
            "100/100 [==============================] - 26s 256ms/step - loss: 0.3767 - acc: 0.8260 - val_loss: 0.2960 - val_acc: 0.8620\n",
            "Epoch 26/30\n",
            "100/100 [==============================] - 25s 249ms/step - loss: 0.3745 - acc: 0.8385 - val_loss: 0.2914 - val_acc: 0.8670\n",
            "Epoch 27/30\n",
            "100/100 [==============================] - 26s 257ms/step - loss: 0.3835 - acc: 0.8235 - val_loss: 0.2941 - val_acc: 0.8680\n",
            "Epoch 28/30\n",
            "100/100 [==============================] - 25s 249ms/step - loss: 0.3662 - acc: 0.8325 - val_loss: 0.2876 - val_acc: 0.8680\n",
            "Epoch 29/30\n",
            "100/100 [==============================] - 25s 245ms/step - loss: 0.3733 - acc: 0.8285 - val_loss: 0.2883 - val_acc: 0.8690\n",
            "Epoch 30/30\n",
            "100/100 [==============================] - 25s 255ms/step - loss: 0.3599 - acc: 0.8440 - val_loss: 0.2882 - val_acc: 0.8650\n"
          ]
        }
      ]
    },
    {
      "cell_type": "code",
      "source": [
        "plots_with_val(history)"
      ],
      "metadata": {
        "id": "mkx5hfL7EPw_",
        "colab": {
          "base_uri": "https://localhost:8080/",
          "height": 333
        },
        "outputId": "7fa89b11-2280-4ddf-8f4f-2b8c0c71528c"
      },
      "execution_count": 17,
      "outputs": [
        {
          "output_type": "display_data",
          "data": {
            "text/plain": [
              "<Figure size 1000x300 with 2 Axes>"
            ],
            "image/png": "[encoded data removed]"
          },
          "metadata": {}
        }
      ]
    },
    {
      "cell_type": "code",
      "source": [],
      "metadata": {
        "id": "6UXe6fXItIVo"
      },
      "execution_count": 17,
      "outputs": []
    },
    {
      "cell_type": "code",
      "source": [],
      "metadata": {
        "id": "RWQW-sw7tK6c"
      },
      "execution_count": 17,
      "outputs": []
    }
  ]
}