{
  "nbformat": 4,
  "nbformat_minor": 0,
  "metadata": {
    "colab": {
      "provenance": [],
      "gpuType": "T4",
      "authorship_tag": "ABX9TyNRN0pjMV8lQzqSaYBGvJr+",
      "include_colab_link": true
    },
    "kernelspec": {
      "name": "python3",
      "display_name": "Python 3"
    },
    "language_info": {
      "name": "python"
    },
    "accelerator": "GPU"
  },
  "cells": [
    {
      "cell_type": "markdown",
      "metadata": {
        "id": "view-in-github",
        "colab_type": "text"
      },
      "source": [
        "<a href=\"https://colab.research.google.com/github/SushilKokare/DeepLearningStudy/blob/main/3_Regression_Boston.ipynb\" target=\"_parent\"><img src=\"https://colab.research.google.com/assets/colab-badge.svg\" alt=\"Open In Colab\"/></a>"
      ]
    },
    {
      "cell_type": "code",
      "source": [
        "from IPython.display import HTML\n",
        "\n",
        "# Disable auto-completion in current notebook\n",
        "\n",
        "display(HTML(\"\"\"\n",
        "<script>\n",
        "google.colab.kernel.disableCompletions();\n",
        "</script>\n",
        "\"\"\"))"
      ],
      "metadata": {
        "colab": {
          "base_uri": "https://localhost:8080/",
          "height": 17
        },
        "id": "5IBdq0CYK92B",
        "outputId": "527d48ff-b83e-466e-c5df-21c048676103"
      },
      "execution_count": 1,
      "outputs": [
        {
          "output_type": "display_data",
          "data": {
            "text/plain": [
              "<IPython.core.display.HTML object>"
            ],
            "text/html": [
              "\n",
              "<script>\n",
              "google.colab.kernel.disableCompletions();\n",
              "</script>\n"
            ]
          },
          "metadata": {}
        }
      ]
    },
    {
      "cell_type": "code",
      "execution_count": 2,
      "metadata": {
        "id": "8cE09LofH9RN"
      },
      "outputs": [],
      "source": [
        "from keras.datasets import boston_housing"
      ]
    },
    {
      "cell_type": "code",
      "source": [
        "(xtr,ytr), (xts,yts) = boston_housing.load_data()"
      ],
      "metadata": {
        "colab": {
          "base_uri": "https://localhost:8080/"
        },
        "id": "eMJwhdf1IHS2",
        "outputId": "a8889c53-88e3-4f65-f15f-d95bb3129949"
      },
      "execution_count": 3,
      "outputs": [
        {
          "output_type": "stream",
          "name": "stdout",
          "text": [
            "Downloading data from https://storage.googleapis.com/tensorflow/tf-keras-datasets/boston_housing.npz\n",
            "57026/57026 [==============================] - 0s 0us/step\n"
          ]
        }
      ]
    },
    {
      "cell_type": "code",
      "source": [
        "(xtr.shape,ytr.shape), (xts.shape,yts.shape)"
      ],
      "metadata": {
        "colab": {
          "base_uri": "https://localhost:8080/"
        },
        "id": "lxWk3UOhIRII",
        "outputId": "17f30db1-5f33-45d4-ba8a-6dee312909a8"
      },
      "execution_count": 4,
      "outputs": [
        {
          "output_type": "execute_result",
          "data": {
            "text/plain": [
              "(((404, 13), (404,)), ((102, 13), (102,)))"
            ]
          },
          "metadata": {},
          "execution_count": 4
        }
      ]
    },
    {
      "cell_type": "code",
      "source": [
        "print(ytr[:10])"
      ],
      "metadata": {
        "colab": {
          "base_uri": "https://localhost:8080/"
        },
        "id": "BK_t1eXVIUNI",
        "outputId": "285478ee-411b-4600-e76e-bf565d690985"
      },
      "execution_count": 5,
      "outputs": [
        {
          "output_type": "stream",
          "name": "stdout",
          "text": [
            "[15.2 42.3 50.  21.1 17.7 18.5 11.3 15.6 15.6 14.4]\n"
          ]
        }
      ]
    },
    {
      "cell_type": "markdown",
      "source": [
        "### Normalizing the data"
      ],
      "metadata": {
        "id": "5al4akMQIYFH"
      }
    },
    {
      "cell_type": "code",
      "source": [
        "mean = xtr.mean(axis=0)"
      ],
      "metadata": {
        "id": "mdSNzGHRIgV_"
      },
      "execution_count": 6,
      "outputs": []
    },
    {
      "cell_type": "code",
      "source": [
        "mean"
      ],
      "metadata": {
        "colab": {
          "base_uri": "https://localhost:8080/"
        },
        "id": "gaV2BpOjIp_n",
        "outputId": "4f6f546d-41d7-4dce-8fbd-3c54cfd83bc1"
      },
      "execution_count": 7,
      "outputs": [
        {
          "output_type": "execute_result",
          "data": {
            "text/plain": [
              "array([3.74511057e+00, 1.14801980e+01, 1.11044307e+01, 6.18811881e-02,\n",
              "       5.57355941e-01, 6.26708168e+00, 6.90106436e+01, 3.74027079e+00,\n",
              "       9.44059406e+00, 4.05898515e+02, 1.84759901e+01, 3.54783168e+02,\n",
              "       1.27408168e+01])"
            ]
          },
          "metadata": {},
          "execution_count": 7
        }
      ]
    },
    {
      "cell_type": "code",
      "source": [
        "std = xtr.std(axis=0)"
      ],
      "metadata": {
        "id": "wgV3cQT4Iv8O"
      },
      "execution_count": 8,
      "outputs": []
    },
    {
      "cell_type": "code",
      "source": [
        "std"
      ],
      "metadata": {
        "colab": {
          "base_uri": "https://localhost:8080/"
        },
        "id": "KS9ZVCI2Ix21",
        "outputId": "68a71f01-9723-4183-ff76-0e50a9155901"
      },
      "execution_count": 9,
      "outputs": [
        {
          "output_type": "execute_result",
          "data": {
            "text/plain": [
              "array([9.22929073e+00, 2.37382770e+01, 6.80287253e+00, 2.40939633e-01,\n",
              "       1.17147847e-01, 7.08908627e-01, 2.79060634e+01, 2.02770050e+00,\n",
              "       8.68758849e+00, 1.66168506e+02, 2.19765689e+00, 9.39946015e+01,\n",
              "       7.24556085e+00])"
            ]
          },
          "metadata": {},
          "execution_count": 9
        }
      ]
    },
    {
      "cell_type": "code",
      "source": [
        "xtr = xtr - mean\n",
        "\n",
        "xtr = xtr / std"
      ],
      "metadata": {
        "id": "saNsJ3pJIqYv"
      },
      "execution_count": 10,
      "outputs": []
    },
    {
      "cell_type": "code",
      "source": [
        "xtr[0]"
      ],
      "metadata": {
        "colab": {
          "base_uri": "https://localhost:8080/"
        },
        "id": "H6k8HiypI0NO",
        "outputId": "e5e89609-d2fc-4c40-e1f2-03f843132ab2"
      },
      "execution_count": 11,
      "outputs": [
        {
          "output_type": "execute_result",
          "data": {
            "text/plain": [
              "array([-0.27224633, -0.48361547, -0.43576161, -0.25683275, -0.1652266 ,\n",
              "       -0.1764426 ,  0.81306188,  0.1166983 , -0.62624905, -0.59517003,\n",
              "        1.14850044,  0.44807713,  0.8252202 ])"
            ]
          },
          "metadata": {},
          "execution_count": 11
        }
      ]
    },
    {
      "cell_type": "code",
      "source": [
        "xts = xts - mean\n",
        "xts = xts / std"
      ],
      "metadata": {
        "id": "zURiNKcwI6vm"
      },
      "execution_count": 12,
      "outputs": []
    },
    {
      "cell_type": "code",
      "source": [
        "xts[0]"
      ],
      "metadata": {
        "colab": {
          "base_uri": "https://localhost:8080/"
        },
        "id": "aC3j4ixzI-uW",
        "outputId": "4278be11-a5a3-488b-f9bd-bf9b1ba4413d"
      },
      "execution_count": 13,
      "outputs": [
        {
          "output_type": "execute_result",
          "data": {
            "text/plain": [
              "array([ 1.55369355, -0.48361547,  1.0283258 , -0.25683275,  1.03838067,\n",
              "        0.23545815,  1.11048828, -0.93976936,  1.67588577,  1.5652875 ,\n",
              "        0.78447637, -3.48459553,  2.25092074])"
            ]
          },
          "metadata": {},
          "execution_count": 13
        }
      ]
    },
    {
      "cell_type": "markdown",
      "source": [
        "### Building Model"
      ],
      "metadata": {
        "id": "yS87Jfr7JO9O"
      }
    },
    {
      "cell_type": "code",
      "source": [
        "from keras.models import Sequential\n",
        "from keras.layers import Dense"
      ],
      "metadata": {
        "id": "szGTw-O9JWqM"
      },
      "execution_count": 14,
      "outputs": []
    },
    {
      "cell_type": "code",
      "source": [
        "xtr.shape"
      ],
      "metadata": {
        "colab": {
          "base_uri": "https://localhost:8080/"
        },
        "id": "Wm_K07zUJlgc",
        "outputId": "07883569-713b-48fb-ad4c-fb4082e6e2a9"
      },
      "execution_count": 15,
      "outputs": [
        {
          "output_type": "execute_result",
          "data": {
            "text/plain": [
              "(404, 13)"
            ]
          },
          "metadata": {},
          "execution_count": 15
        }
      ]
    },
    {
      "cell_type": "code",
      "source": [
        "def get_model():\n",
        "  model = Sequential()\n",
        "  model.add(Dense(64,activation='relu',input_shape=(13,)))\n",
        "  model.add(Dense(64,activation='relu'))\n",
        "  model.add(Dense(1))\n",
        "  model.compile(optimizer='rmsprop',\n",
        "              loss='mse',\n",
        "              metrics=['mae'])\n",
        "  return model"
      ],
      "metadata": {
        "id": "SIidpr9vJgSN"
      },
      "execution_count": 16,
      "outputs": []
    },
    {
      "cell_type": "markdown",
      "source": [
        "### Validating your approach using K-Fold validation"
      ],
      "metadata": {
        "id": "_pSzAvGyJ4At"
      }
    },
    {
      "cell_type": "code",
      "source": [
        "import numpy as np"
      ],
      "metadata": {
        "id": "WtEl4C6gKGAb"
      },
      "execution_count": 17,
      "outputs": []
    },
    {
      "cell_type": "code",
      "source": [
        "k = 4\n",
        "num_value_samples = len(xtr) // k\n",
        "num_epochs = 100\n",
        "all_scores = list()"
      ],
      "metadata": {
        "id": "tmyi1Ka9KISc"
      },
      "execution_count": 18,
      "outputs": []
    },
    {
      "cell_type": "code",
      "source": [
        "for i in range(k):\n",
        "  print(' Fold number {}'.format(i+1))\n",
        "  val_data = xtr[i*num_value_samples:(i+1)*num_value_samples]\n",
        "  val_targets = ytr[i*num_value_samples:(i+1)*num_value_samples]\n",
        "\n",
        "  partial_xtr = np.concatenate(\n",
        "      (\n",
        "          xtr[:i*num_value_samples],\n",
        "          xtr[(i+1)*num_value_samples:]\n",
        "      ), axis=0)\n",
        "  partial_ytr = np.concatenate(\n",
        "      (\n",
        "          ytr[:i*num_value_samples],\n",
        "          ytr[(i+1)*num_value_samples:]\n",
        "      ), axis=0)\n",
        "\n",
        "  model = get_model()\n",
        "\n",
        "  model.fit(partial_xtr, partial_ytr,\n",
        "            epochs=num_epochs,\n",
        "            batch_size=1,verbose=0)\n",
        "\n",
        "  val_mse, val_mae = model.evaluate(val_data,val_targets)\n",
        "  print('Val MSE : ',val_mse)\n",
        "  print('Val MAE : ',val_mae)\n",
        "  all_scores.append(val_mae)"
      ],
      "metadata": {
        "colab": {
          "base_uri": "https://localhost:8080/"
        },
        "id": "3BSS6hZYKpAK",
        "outputId": "9f48f169-aa5a-407c-df1d-625ddb0e4f2c"
      },
      "execution_count": 19,
      "outputs": [
        {
          "output_type": "stream",
          "name": "stdout",
          "text": [
            " Fold number 1\n",
            "4/4 [==============================] - 0s 13ms/step - loss: 7.2848 - mae: 1.9294\n",
            "Val MSE :  7.284759998321533\n",
            "Val MAE :  1.9293867349624634\n",
            " Fold number 2\n",
            "4/4 [==============================] - 0s 4ms/step - loss: 11.3214 - mae: 2.5043\n",
            "Val MSE :  11.321382522583008\n",
            "Val MAE :  2.5042531490325928\n",
            " Fold number 3\n",
            "4/4 [==============================] - 0s 4ms/step - loss: 13.3539 - mae: 2.5412\n",
            "Val MSE :  13.353927612304688\n",
            "Val MAE :  2.5412261486053467\n",
            " Fold number 4\n",
            "4/4 [==============================] - 0s 4ms/step - loss: 15.5098 - mae: 2.8177\n",
            "Val MSE :  15.50978946685791\n",
            "Val MAE :  2.8176536560058594\n"
          ]
        }
      ]
    },
    {
      "cell_type": "code",
      "source": [
        "all_scores"
      ],
      "metadata": {
        "colab": {
          "base_uri": "https://localhost:8080/"
        },
        "id": "fWKmyu00SSf2",
        "outputId": "cbcfac0a-f303-4bc4-c407-05833d719a52"
      },
      "execution_count": 20,
      "outputs": [
        {
          "output_type": "execute_result",
          "data": {
            "text/plain": [
              "[1.9293867349624634,\n",
              " 2.5042531490325928,\n",
              " 2.5412261486053467,\n",
              " 2.8176536560058594]"
            ]
          },
          "metadata": {},
          "execution_count": 20
        }
      ]
    },
    {
      "cell_type": "markdown",
      "source": [
        "###Saving the validation logs at each fold"
      ],
      "metadata": {
        "id": "zX2poqtuUJvI"
      }
    },
    {
      "cell_type": "code",
      "source": [
        "num_epochs=150\n",
        "all_mae_histories = list()\n",
        "\n",
        "for i in range(k):\n",
        "  print(' Fold number {}'.format(i+1))\n",
        "  val_data = xtr[i*num_value_samples:(i+1)*num_value_samples]\n",
        "  val_targets = ytr[i*num_value_samples:(i+1)*num_value_samples]\n",
        "\n",
        "  partial_xtr = np.concatenate(\n",
        "      (\n",
        "          xtr[:i*num_value_samples],\n",
        "          xtr[(i+1)*num_value_samples:]\n",
        "      ), axis=0)\n",
        "  partial_ytr = np.concatenate(\n",
        "      (\n",
        "          ytr[:i*num_value_samples],\n",
        "          ytr[(i+1)*num_value_samples:]\n",
        "      ), axis=0)\n",
        "\n",
        "  model = get_model()\n",
        "\n",
        "  history = model.fit(partial_xtr, partial_ytr,\n",
        "            validation_data=(val_data,val_targets),\n",
        "            epochs=num_epochs,\n",
        "            batch_size=1,verbose=0)\n",
        "  print(history.history.keys())\n",
        "  mae_history = history.history['val_mae']\n",
        "  all_mae_histories.append(mae_history)"
      ],
      "metadata": {
        "colab": {
          "base_uri": "https://localhost:8080/"
        },
        "id": "bb4ymcnkT1LK",
        "outputId": "cb5c1e90-fea7-4589-fd41-7f8af9abed9f"
      },
      "execution_count": 31,
      "outputs": [
        {
          "output_type": "stream",
          "name": "stdout",
          "text": [
            " Fold number 1\n",
            "dict_keys(['loss', 'mae', 'val_loss', 'val_mae'])\n",
            " Fold number 2\n",
            "dict_keys(['loss', 'mae', 'val_loss', 'val_mae'])\n",
            " Fold number 3\n",
            "dict_keys(['loss', 'mae', 'val_loss', 'val_mae'])\n",
            " Fold number 4\n",
            "dict_keys(['loss', 'mae', 'val_loss', 'val_mae'])\n"
          ]
        }
      ]
    },
    {
      "cell_type": "code",
      "source": [],
      "metadata": {
        "id": "lbkOnbw0VWNs"
      },
      "execution_count": null,
      "outputs": []
    },
    {
      "cell_type": "markdown",
      "source": [
        "###  Building the history of successive mean k-fold validation scores"
      ],
      "metadata": {
        "id": "n1PMCfLxVWco"
      }
    },
    {
      "cell_type": "code",
      "source": [
        "average_mae_history = [np.mean( [ x[i] for x in all_mae_histories]) for i in range(num_epochs)]"
      ],
      "metadata": {
        "id": "AoLdgVKWXgNa"
      },
      "execution_count": 34,
      "outputs": []
    },
    {
      "cell_type": "code",
      "source": [
        "for i in average_mae_history:\n",
        "  print(i,end=',')"
      ],
      "metadata": {
        "colab": {
          "base_uri": "https://localhost:8080/"
        },
        "id": "QwYQxrhHYItt",
        "outputId": "b479044b-7e9e-494f-e226-57553ca2e746"
      },
      "execution_count": 38,
      "outputs": [
        {
          "output_type": "stream",
          "name": "stdout",
          "text": [
            "4.125505447387695,3.2678980231285095,3.0136340260505676,2.769016683101654,2.6778746247291565,2.72619891166687,2.650582253932953,2.5805619955062866,2.6342737078666687,2.5588539242744446,2.7106882333755493,2.6178106665611267,2.488433539867401,2.4992611408233643,2.487821340560913,2.7327653765678406,2.4445658028125763,2.5150848031044006,2.463954210281372,2.450438678264618,2.4726937413215637,2.415377974510193,2.4724076986312866,2.423810660839081,2.500413179397583,2.436102867126465,2.5203845500946045,2.395723581314087,2.434366911649704,2.3640497624874115,2.3600620925426483,2.408730447292328,2.2916081845760345,2.490369439125061,2.3540944159030914,2.6115894317626953,2.3585556745529175,2.355366289615631,2.405188351869583,2.4440406262874603,2.403375029563904,2.4073687195777893,2.3991259336471558,2.513319969177246,2.3257771730422974,2.565289616584778,2.353423833847046,2.5079390704631805,2.3249123096466064,2.463699460029602,2.4889365434646606,2.488870680332184,2.4361135959625244,2.3862404227256775,2.4187230467796326,2.5559421479701996,2.437547266483307,2.3740904331207275,2.4432509541511536,2.433416187763214,2.64321631193161,2.5251646041870117,2.468372792005539,2.553112804889679,2.3947006165981293,2.555691182613373,2.4178344905376434,2.433340072631836,2.4161829352378845,2.6607860326766968,2.7210845351219177,2.4298072457313538,2.4433672428131104,2.4547817707061768,2.459631025791168,2.4140065908432007,2.5342941284179688,2.4225728511810303,2.487352192401886,2.4653202891349792,2.4742836356163025,2.45663183927536,2.6180864572525024,2.4019322991371155,2.4277811348438263,2.676132917404175,2.4576448798179626,2.5138105154037476,2.5818384289741516,2.5028560757637024,2.7200610637664795,2.6234423518180847,2.5441465377807617,2.5138121247291565,2.5740591883659363,2.516139328479767,2.5682780742645264,2.510900616645813,2.5905463099479675,2.5897040367126465,2.544167160987854,2.5952600240707397,2.6130263209342957,2.523189604282379,2.610434114933014,2.6269611120224,2.525960385799408,2.6045864820480347,2.5717579126358032,2.54694926738739,2.6629927158355713,2.53464812040329,2.57193785905838,2.5699962973594666,2.7190091013908386,2.56718111038208,2.6641265153884888,2.6498990058898926,2.6580156683921814,2.6027233004570007,2.4943044185638428,2.6528347730636597,2.6101490259170532,2.544173240661621,2.5353814363479614,2.6262184381484985,2.5542117953300476,2.6408573389053345,2.5691952109336853,2.5874271392822266,2.605391949415207,2.6328479647636414,2.596621870994568,2.630324959754944,2.6400065422058105,2.76123309135437,2.679050922393799,2.6414777040481567,2.6531482338905334,2.668765366077423,2.7080882787704468,2.587755858898163,2.5912908911705017,2.63637775182724,2.6711227893829346,2.6326522827148438,2.616172134876251,2.5958003997802734,2.6117324233055115,2.7567002177238464,"
          ]
        }
      ]
    },
    {
      "cell_type": "markdown",
      "source": [
        "### Plotting validation scores"
      ],
      "metadata": {
        "id": "DdmUmto9ag81"
      }
    },
    {
      "cell_type": "code",
      "source": [
        "import matplotlib.pyplot as plt"
      ],
      "metadata": {
        "id": "ZL67Eg-ea0W0"
      },
      "execution_count": 40,
      "outputs": []
    },
    {
      "cell_type": "code",
      "source": [
        "plt.plot(range(1,len(average_mae_history)+1),average_mae_history)\n",
        "plt.xlabel('Epochs')\n",
        "plt.ylabel('Validation MAE')\n",
        "plt.show()"
      ],
      "metadata": {
        "colab": {
          "base_uri": "https://localhost:8080/",
          "height": 449
        },
        "id": "ENXXpLrBa3Vt",
        "outputId": "d7af7726-d1b2-4420-d906-7307325b9e36"
      },
      "execution_count": 41,
      "outputs": [
        {
          "output_type": "display_data",
          "data": {
            "text/plain": [
              "<Figure size 640x480 with 1 Axes>"
            ],
            "image/png": "[encoded data removed]"
          },
          "metadata": {}
        }
      ]
    },
    {
      "cell_type": "code",
      "source": [
        "def smooth_curve(points,factor=0.9):\n",
        "  smoothed_points = list()\n",
        "  for point in points:\n",
        "    if smoothed_points:\n",
        "      previous = smoothed_points[-1]\n",
        "      smoothed_points.append(previous * factor + point * (1-factor))\n",
        "    else:\n",
        "      smoothed_points.append(point)\n",
        "  return smoothed_points"
      ],
      "metadata": {
        "id": "cBYgnW3-bH_t"
      },
      "execution_count": 42,
      "outputs": []
    },
    {
      "cell_type": "code",
      "source": [
        "smooth_mae_history = smooth_curve(average_mae_history[5:])"
      ],
      "metadata": {
        "id": "qCrkQrySbncc"
      },
      "execution_count": 43,
      "outputs": []
    },
    {
      "cell_type": "code",
      "source": [
        "plt.plot(range(1,len(smooth_mae_history)+1),smooth_mae_history)\n",
        "plt.xlabel('Epochs')\n",
        "plt.ylabel('Validation MAE')\n",
        "plt.show()"
      ],
      "metadata": {
        "colab": {
          "base_uri": "https://localhost:8080/",
          "height": 449
        },
        "id": "Co9Qc7fEbvsy",
        "outputId": "9b75c060-d550-451e-d246-b4a976388691"
      },
      "execution_count": 44,
      "outputs": [
        {
          "output_type": "display_data",
          "data": {
            "text/plain": [
              "<Figure size 640x480 with 1 Axes>"
            ],
            "image/png": "[encoded data removed]"
          },
          "metadata": {}
        }
      ]
    },
    {
      "cell_type": "code",
      "source": [],
      "metadata": {
        "id": "gK82dv_Ib3WT"
      },
      "execution_count": 44,
      "outputs": []
    },
    {
      "cell_type": "markdown",
      "source": [
        "### Training The Final Model"
      ],
      "metadata": {
        "id": "_0IMPrneb8V6"
      }
    },
    {
      "cell_type": "code",
      "source": [
        "model = get_model()"
      ],
      "metadata": {
        "id": "cQNclwseb_e5"
      },
      "execution_count": 45,
      "outputs": []
    },
    {
      "cell_type": "code",
      "source": [
        "historyfinal = model.fit(xtr,ytr,epochs=60,batch_size=16,verbose=0)"
      ],
      "metadata": {
        "id": "yer3oj-ocA0c"
      },
      "execution_count": 46,
      "outputs": []
    },
    {
      "cell_type": "code",
      "source": [
        "import pandas as pd"
      ],
      "metadata": {
        "id": "_8wSKnzfcPby"
      },
      "execution_count": 47,
      "outputs": []
    },
    {
      "cell_type": "code",
      "source": [
        "df = pd.DataFrame(historyfinal.history)"
      ],
      "metadata": {
        "id": "Ojhd47EXcS-q"
      },
      "execution_count": 49,
      "outputs": []
    },
    {
      "cell_type": "code",
      "source": [
        "df.columns"
      ],
      "metadata": {
        "colab": {
          "base_uri": "https://localhost:8080/"
        },
        "id": "NzTCECkVca-I",
        "outputId": "088cc318-9fcb-4126-9e46-a317a8e12730"
      },
      "execution_count": 50,
      "outputs": [
        {
          "output_type": "execute_result",
          "data": {
            "text/plain": [
              "Index(['loss', 'mae'], dtype='object')"
            ]
          },
          "metadata": {},
          "execution_count": 50
        }
      ]
    },
    {
      "cell_type": "code",
      "source": [
        "len(df)"
      ],
      "metadata": {
        "colab": {
          "base_uri": "https://localhost:8080/"
        },
        "id": "6dQ159IbdKHu",
        "outputId": "baae9ee3-af19-47a0-89be-fbc972cc2481"
      },
      "execution_count": 58,
      "outputs": [
        {
          "output_type": "execute_result",
          "data": {
            "text/plain": [
              "60"
            ]
          },
          "metadata": {},
          "execution_count": 58
        }
      ]
    },
    {
      "cell_type": "code",
      "source": [
        "df['mae']"
      ],
      "metadata": {
        "colab": {
          "base_uri": "https://localhost:8080/"
        },
        "id": "-2yWfsCCdNTA",
        "outputId": "df5dab33-31ea-47d7-867a-a7e92cefe0ac"
      },
      "execution_count": 62,
      "outputs": [
        {
          "output_type": "execute_result",
          "data": {
            "text/plain": [
              "0     20.840776\n",
              "1     16.968821\n",
              "2     12.127520\n",
              "3      7.501973\n",
              "4      5.106440\n",
              "5      4.138183\n",
              "6      3.690206\n",
              "7      3.391371\n",
              "8      3.252015\n",
              "9      3.110574\n",
              "10     3.002964\n",
              "11     2.857020\n",
              "12     2.801249\n",
              "13     2.722049\n",
              "14     2.635803\n",
              "15     2.593370\n",
              "16     2.527202\n",
              "17     2.450231\n",
              "18     2.421389\n",
              "19     2.372388\n",
              "20     2.350411\n",
              "21     2.330906\n",
              "22     2.311518\n",
              "23     2.274494\n",
              "24     2.222727\n",
              "25     2.219300\n",
              "26     2.194512\n",
              "27     2.155181\n",
              "28     2.142853\n",
              "29     2.145193\n",
              "30     2.096474\n",
              "31     2.096668\n",
              "32     2.085983\n",
              "33     2.086206\n",
              "34     2.059654\n",
              "35     2.034643\n",
              "36     2.062479\n",
              "37     2.022848\n",
              "38     1.993505\n",
              "39     2.026195\n",
              "40     2.012865\n",
              "41     1.980422\n",
              "42     1.963243\n",
              "43     1.975628\n",
              "44     1.959093\n",
              "45     1.944967\n",
              "46     1.925166\n",
              "47     1.958990\n",
              "48     1.944624\n",
              "49     1.906265\n",
              "50     1.901752\n",
              "51     1.852492\n",
              "52     1.904983\n",
              "53     1.853757\n",
              "54     1.883430\n",
              "55     1.882524\n",
              "56     1.879063\n",
              "57     1.853676\n",
              "58     1.863720\n",
              "59     1.841998\n",
              "Name: mae, dtype: float64"
            ]
          },
          "metadata": {},
          "execution_count": 62
        }
      ]
    },
    {
      "cell_type": "code",
      "source": [
        "plt.plot(range(5,len(df)),df['loss'][5:],label='Loss')\n",
        "plt.plot(range(5,len(df)),df['mae'][5:],label='MAE')\n",
        "plt.xlabel('Epochs')\n",
        "plt.ylabel('Loss/MAE')\n",
        "plt.legend()\n",
        "plt.show()"
      ],
      "metadata": {
        "colab": {
          "base_uri": "https://localhost:8080/",
          "height": 449
        },
        "id": "XADghQZCcVPh",
        "outputId": "5060fa45-3e95-4677-f201-929bdd2cb984"
      },
      "execution_count": 67,
      "outputs": [
        {
          "output_type": "display_data",
          "data": {
            "text/plain": [
              "<Figure size 640x480 with 1 Axes>"
            ],
            "image/png": "[encoded data removed]"
          },
          "metadata": {}
        }
      ]
    },
    {
      "cell_type": "code",
      "source": [
        "test_mse_score, test_mae_score = model.evaluate(xts,yts)"
      ],
      "metadata": {
        "colab": {
          "base_uri": "https://localhost:8080/"
        },
        "id": "FgORpsfrcyMJ",
        "outputId": "138738f1-6f76-4991-d6a8-1ae6eb93df7d"
      },
      "execution_count": 68,
      "outputs": [
        {
          "output_type": "stream",
          "name": "stdout",
          "text": [
            "4/4 [==============================] - 0s 4ms/step - loss: 18.6079 - mae: 2.7059\n"
          ]
        }
      ]
    },
    {
      "cell_type": "code",
      "source": [
        "test_mse_score, test_mae_score"
      ],
      "metadata": {
        "colab": {
          "base_uri": "https://localhost:8080/"
        },
        "id": "lS30br8gdy1W",
        "outputId": "98ad1126-7f39-4b92-c496-19703b4fa89c"
      },
      "execution_count": 69,
      "outputs": [
        {
          "output_type": "execute_result",
          "data": {
            "text/plain": [
              "(18.607881546020508, 2.7059221267700195)"
            ]
          },
          "metadata": {},
          "execution_count": 69
        }
      ]
    },
    {
      "cell_type": "code",
      "source": [],
      "metadata": {
        "id": "tqY1qce0dzBW"
      },
      "execution_count": 69,
      "outputs": []
    },
    {
      "cell_type": "code",
      "source": [],
      "metadata": {
        "id": "pEIU8BAJd1-O"
      },
      "execution_count": 69,
      "outputs": []
    }
  ]
}