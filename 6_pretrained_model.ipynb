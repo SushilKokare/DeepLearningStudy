{
  "nbformat": 4,
  "nbformat_minor": 0,
  "metadata": {
    "colab": {
      "provenance": [],
      "include_colab_link": true
    },
    "kernelspec": {
      "name": "python3",
      "display_name": "Python 3"
    },
    "language_info": {
      "name": "python"
    }
  },
  "cells": [
    {
      "cell_type": "markdown",
      "metadata": {
        "id": "view-in-github",
        "colab_type": "text"
      },
      "source": [
        "<a href=\"https://colab.research.google.com/github/SushilKokare/DeepLearningStudy/blob/main/6_pretrained_model.ipynb\" target=\"_parent\"><img src=\"https://colab.research.google.com/assets/colab-badge.svg\" alt=\"Open In Colab\"/></a>"
      ]
    },
    {
      "cell_type": "code",
      "execution_count": 1,
      "metadata": {
        "id": "kfydWLZqIwJ0"
      },
      "outputs": [],
      "source": [
        "from google.colab import drive"
      ]
    },
    {
      "cell_type": "code",
      "source": [
        "\n",
        "drive.mount('/content/drive')"
      ],
      "metadata": {
        "colab": {
          "base_uri": "https://localhost:8080/"
        },
        "id": "QoTNeKUyNtJo",
        "outputId": "47d473f8-b5dc-44ac-d1d4-20071b723775"
      },
      "execution_count": 2,
      "outputs": [
        {
          "output_type": "stream",
          "name": "stdout",
          "text": [
            "Mounted at /content/drive\n"
          ]
        }
      ]
    },
    {
      "cell_type": "code",
      "source": [
        "from keras.applications import VGG16"
      ],
      "metadata": {
        "id": "sw9hGradOEZH"
      },
      "execution_count": 3,
      "outputs": []
    },
    {
      "cell_type": "code",
      "source": [
        "conv_base = VGG16(weights='imagenet', include_top=False,input_shape=(150,150,3))"
      ],
      "metadata": {
        "colab": {
          "base_uri": "https://localhost:8080/"
        },
        "id": "Fb9QnOcbOEVy",
        "outputId": "63b642ec-11d8-4d1d-823b-6fb551d1127f"
      },
      "execution_count": 4,
      "outputs": [
        {
          "output_type": "stream",
          "name": "stdout",
          "text": [
            "Downloading data from https://storage.googleapis.com/tensorflow/keras-applications/vgg16/vgg16_weights_tf_dim_ordering_tf_kernels_notop.h5\n",
            "58889256/58889256 [==============================] - 1s 0us/step\n"
          ]
        }
      ]
    },
    {
      "cell_type": "code",
      "source": [
        "conv_base.summary()"
      ],
      "metadata": {
        "colab": {
          "base_uri": "https://localhost:8080/"
        },
        "id": "gvKIGNlhOESJ",
        "outputId": "807f7a8f-c837-4ca2-a7d2-15c4fde1399a"
      },
      "execution_count": 5,
      "outputs": [
        {
          "output_type": "stream",
          "name": "stdout",
          "text": [
            "Model: \"vgg16\"\n",
            "_________________________________________________________________\n",
            " Layer (type)                Output Shape              Param #   \n",
            "=================================================================\n",
            " input_1 (InputLayer)        [(None, 150, 150, 3)]     0         \n",
            "                                                                 \n",
            " block1_conv1 (Conv2D)       (None, 150, 150, 64)      1792      \n",
            "                                                                 \n",
            " block1_conv2 (Conv2D)       (None, 150, 150, 64)      36928     \n",
            "                                                                 \n",
            " block1_pool (MaxPooling2D)  (None, 75, 75, 64)        0         \n",
            "                                                                 \n",
            " block2_conv1 (Conv2D)       (None, 75, 75, 128)       73856     \n",
            "                                                                 \n",
            " block2_conv2 (Conv2D)       (None, 75, 75, 128)       147584    \n",
            "                                                                 \n",
            " block2_pool (MaxPooling2D)  (None, 37, 37, 128)       0         \n",
            "                                                                 \n",
            " block3_conv1 (Conv2D)       (None, 37, 37, 256)       295168    \n",
            "                                                                 \n",
            " block3_conv2 (Conv2D)       (None, 37, 37, 256)       590080    \n",
            "                                                                 \n",
            " block3_conv3 (Conv2D)       (None, 37, 37, 256)       590080    \n",
            "                                                                 \n",
            " block3_pool (MaxPooling2D)  (None, 18, 18, 256)       0         \n",
            "                                                                 \n",
            " block4_conv1 (Conv2D)       (None, 18, 18, 512)       1180160   \n",
            "                                                                 \n",
            " block4_conv2 (Conv2D)       (None, 18, 18, 512)       2359808   \n",
            "                                                                 \n",
            " block4_conv3 (Conv2D)       (None, 18, 18, 512)       2359808   \n",
            "                                                                 \n",
            " block4_pool (MaxPooling2D)  (None, 9, 9, 512)         0         \n",
            "                                                                 \n",
            " block5_conv1 (Conv2D)       (None, 9, 9, 512)         2359808   \n",
            "                                                                 \n",
            " block5_conv2 (Conv2D)       (None, 9, 9, 512)         2359808   \n",
            "                                                                 \n",
            " block5_conv3 (Conv2D)       (None, 9, 9, 512)         2359808   \n",
            "                                                                 \n",
            " block5_pool (MaxPooling2D)  (None, 4, 4, 512)         0         \n",
            "                                                                 \n",
            "=================================================================\n",
            "Total params: 14714688 (56.13 MB)\n",
            "Trainable params: 14714688 (56.13 MB)\n",
            "Non-trainable params: 0 (0.00 Byte)\n",
            "_________________________________________________________________\n"
          ]
        }
      ]
    },
    {
      "cell_type": "code",
      "source": [
        "train_dir = '/content/drive/MyDrive/Colab Notebooks/Deep Learning Study/cats_and_dogs_small/train'\n",
        "test_dir = '/content/drive/MyDrive/Colab Notebooks/Deep Learning Study/cats_and_dogs_small/test'\n",
        "validation_dir = '/content/drive/MyDrive/Colab Notebooks/Deep Learning Study/cats_and_dogs_small/validation'"
      ],
      "metadata": {
        "id": "IoVeB7g0OEOX"
      },
      "execution_count": null,
      "outputs": []
    },
    {
      "cell_type": "markdown",
      "source": [
        "## Fast Extraction without Data Augmentation\n",
        "### Extracting features using the pretrained convolutional base\n"
      ],
      "metadata": {
        "id": "npt_bGYuPzqR"
      }
    },
    {
      "cell_type": "code",
      "source": [
        "import os\n",
        "import numpy as np\n",
        "from keras.preprocessing.image import ImageDataGenerator"
      ],
      "metadata": {
        "id": "6Q4K6pm9PxNy"
      },
      "execution_count": 6,
      "outputs": []
    },
    {
      "cell_type": "code",
      "source": [
        "base_dir = '/content/drive/MyDrive/Colab Notebooks/Deep Learning Study/cats_and_dogs_small/'\n",
        "train_dir = os.path.join(base_dir, 'train')\n",
        "test_dir = os.path.join(base_dir, 'test')\n",
        "validation_dir = os.path.join(base_dir, 'validation')\n"
      ],
      "metadata": {
        "id": "n6tw382kQRp8"
      },
      "execution_count": 7,
      "outputs": []
    },
    {
      "cell_type": "code",
      "source": [
        "datagen = ImageDataGenerator(rescale = 1./255)\n",
        "batch_size = 20"
      ],
      "metadata": {
        "id": "KqK77CFBQUak"
      },
      "execution_count": 8,
      "outputs": []
    },
    {
      "cell_type": "code",
      "source": [
        "def extract_features(directory, sample_count):\n",
        "    features = np.zeros(shape=(sample_count, 4, 4, 512))\n",
        "    labels = np.zeros(shape=(sample_count))\n",
        "    generator = datagen.flow_from_directory(\n",
        "        directory,\n",
        "        target_size=(150, 150),\n",
        "        batch_size=batch_size,\n",
        "        class_mode='binary')\n",
        "    i = 0\n",
        "    for inputs_batch, labels_batch in generator:\n",
        "        features_batch = conv_base.predict(inputs_batch)\n",
        "        features[i * batch_size : (i + 1) * batch_size] = features_batch\n",
        "        labels[i * batch_size : (i + 1) * batch_size] = labels_batch\n",
        "        i += 1\n",
        "        if i * batch_size >= sample_count:\n",
        "            break\n",
        "    return features, labels"
      ],
      "metadata": {
        "id": "hLEvxiA1QbLD"
      },
      "execution_count": null,
      "outputs": []
    },
    {
      "cell_type": "code",
      "source": [
        "train_features, train_labels = extract_features(train_dir, 2000)"
      ],
      "metadata": {
        "colab": {
          "base_uri": "https://localhost:8080/"
        },
        "id": "a4Al3Yr0Rf6-",
        "outputId": "803ecb7d-a97f-4637-c723-36aa63b72303"
      },
      "execution_count": null,
      "outputs": [
        {
          "output_type": "stream",
          "name": "stdout",
          "text": [
            "Found 2000 images belonging to 2 classes.\n",
            "1/1 [==============================] - 0s 30ms/step\n",
            "1/1 [==============================] - 0s 27ms/step\n",
            "1/1 [==============================] - 0s 34ms/step\n",
            "1/1 [==============================] - 0s 41ms/step\n",
            "1/1 [==============================] - 0s 27ms/step\n",
            "1/1 [==============================] - 0s 29ms/step\n",
            "1/1 [==============================] - 0s 35ms/step\n",
            "1/1 [==============================] - 0s 28ms/step\n",
            "1/1 [==============================] - 0s 31ms/step\n",
            "1/1 [==============================] - 0s 28ms/step\n",
            "1/1 [==============================] - 0s 21ms/step\n",
            "1/1 [==============================] - 0s 21ms/step\n",
            "1/1 [==============================] - 0s 20ms/step\n",
            "1/1 [==============================] - 0s 20ms/step\n",
            "1/1 [==============================] - 0s 21ms/step\n",
            "1/1 [==============================] - 0s 20ms/step\n",
            "1/1 [==============================] - 0s 20ms/step\n",
            "1/1 [==============================] - 0s 19ms/step\n",
            "1/1 [==============================] - 0s 19ms/step\n",
            "1/1 [==============================] - 0s 19ms/step\n",
            "1/1 [==============================] - 0s 20ms/step\n",
            "1/1 [==============================] - 0s 20ms/step\n",
            "1/1 [==============================] - 0s 21ms/step\n",
            "1/1 [==============================] - 0s 20ms/step\n",
            "1/1 [==============================] - 0s 21ms/step\n",
            "1/1 [==============================] - 0s 25ms/step\n",
            "1/1 [==============================] - 0s 19ms/step\n",
            "1/1 [==============================] - 0s 19ms/step\n",
            "1/1 [==============================] - 0s 20ms/step\n",
            "1/1 [==============================] - 0s 20ms/step\n",
            "1/1 [==============================] - 0s 20ms/step\n",
            "1/1 [==============================] - 0s 20ms/step\n",
            "1/1 [==============================] - 0s 20ms/step\n",
            "1/1 [==============================] - 0s 25ms/step\n",
            "1/1 [==============================] - 0s 19ms/step\n",
            "1/1 [==============================] - 0s 19ms/step\n",
            "1/1 [==============================] - 0s 23ms/step\n",
            "1/1 [==============================] - 0s 20ms/step\n",
            "1/1 [==============================] - 0s 22ms/step\n",
            "1/1 [==============================] - 0s 20ms/step\n",
            "1/1 [==============================] - 0s 20ms/step\n",
            "1/1 [==============================] - 0s 21ms/step\n",
            "1/1 [==============================] - 0s 20ms/step\n",
            "1/1 [==============================] - 0s 20ms/step\n",
            "1/1 [==============================] - 0s 20ms/step\n",
            "1/1 [==============================] - 0s 21ms/step\n",
            "1/1 [==============================] - 0s 20ms/step\n",
            "1/1 [==============================] - 0s 20ms/step\n",
            "1/1 [==============================] - 0s 20ms/step\n",
            "1/1 [==============================] - 0s 20ms/step\n",
            "1/1 [==============================] - 0s 22ms/step\n",
            "1/1 [==============================] - 0s 20ms/step\n",
            "1/1 [==============================] - 0s 28ms/step\n",
            "1/1 [==============================] - 0s 31ms/step\n",
            "1/1 [==============================] - 0s 26ms/step\n",
            "1/1 [==============================] - 0s 27ms/step\n",
            "1/1 [==============================] - 0s 28ms/step\n",
            "1/1 [==============================] - 0s 28ms/step\n",
            "1/1 [==============================] - 0s 31ms/step\n",
            "1/1 [==============================] - 0s 29ms/step\n",
            "1/1 [==============================] - 0s 33ms/step\n",
            "1/1 [==============================] - 0s 33ms/step\n",
            "1/1 [==============================] - 0s 30ms/step\n",
            "1/1 [==============================] - 0s 20ms/step\n",
            "1/1 [==============================] - 0s 20ms/step\n",
            "1/1 [==============================] - 0s 20ms/step\n",
            "1/1 [==============================] - 0s 22ms/step\n",
            "1/1 [==============================] - 0s 20ms/step\n",
            "1/1 [==============================] - 0s 23ms/step\n",
            "1/1 [==============================] - 0s 21ms/step\n",
            "1/1 [==============================] - 0s 20ms/step\n",
            "1/1 [==============================] - 0s 20ms/step\n",
            "1/1 [==============================] - 0s 25ms/step\n",
            "1/1 [==============================] - 0s 20ms/step\n",
            "1/1 [==============================] - 0s 20ms/step\n",
            "1/1 [==============================] - 0s 20ms/step\n",
            "1/1 [==============================] - 0s 20ms/step\n",
            "1/1 [==============================] - 0s 24ms/step\n",
            "1/1 [==============================] - 0s 20ms/step\n",
            "1/1 [==============================] - 0s 20ms/step\n",
            "1/1 [==============================] - 0s 20ms/step\n",
            "1/1 [==============================] - 0s 24ms/step\n",
            "1/1 [==============================] - 0s 23ms/step\n",
            "1/1 [==============================] - 0s 20ms/step\n",
            "1/1 [==============================] - 0s 20ms/step\n",
            "1/1 [==============================] - 0s 19ms/step\n",
            "1/1 [==============================] - 0s 19ms/step\n",
            "1/1 [==============================] - 0s 19ms/step\n",
            "1/1 [==============================] - 0s 20ms/step\n",
            "1/1 [==============================] - 0s 20ms/step\n",
            "1/1 [==============================] - 0s 23ms/step\n",
            "1/1 [==============================] - 0s 21ms/step\n",
            "1/1 [==============================] - 0s 21ms/step\n",
            "1/1 [==============================] - 0s 21ms/step\n",
            "1/1 [==============================] - 0s 20ms/step\n",
            "1/1 [==============================] - 0s 20ms/step\n",
            "1/1 [==============================] - 0s 20ms/step\n",
            "1/1 [==============================] - 0s 20ms/step\n",
            "1/1 [==============================] - 0s 19ms/step\n",
            "1/1 [==============================] - 0s 19ms/step\n"
          ]
        }
      ]
    },
    {
      "cell_type": "code",
      "source": [
        "test_features, test_labels = extract_features(test_dir, 1000 )"
      ],
      "metadata": {
        "id": "CPe6oUgWRr1a",
        "colab": {
          "base_uri": "https://localhost:8080/"
        },
        "outputId": "5d5466ec-1013-49a5-853d-c96a2108cab6"
      },
      "execution_count": null,
      "outputs": [
        {
          "output_type": "stream",
          "name": "stdout",
          "text": [
            "Found 1000 images belonging to 2 classes.\n",
            "1/1 [==============================] - 0s 19ms/step\n",
            "1/1 [==============================] - 0s 20ms/step\n",
            "1/1 [==============================] - 0s 19ms/step\n",
            "1/1 [==============================] - 0s 19ms/step\n",
            "1/1 [==============================] - 0s 19ms/step\n",
            "1/1 [==============================] - 0s 27ms/step\n",
            "1/1 [==============================] - 0s 22ms/step\n",
            "1/1 [==============================] - 0s 31ms/step\n",
            "1/1 [==============================] - 0s 19ms/step\n",
            "1/1 [==============================] - 0s 20ms/step\n",
            "1/1 [==============================] - 0s 28ms/step\n",
            "1/1 [==============================] - 0s 19ms/step\n",
            "1/1 [==============================] - 0s 20ms/step\n",
            "1/1 [==============================] - 0s 21ms/step\n",
            "1/1 [==============================] - 0s 20ms/step\n",
            "1/1 [==============================] - 0s 28ms/step\n",
            "1/1 [==============================] - 0s 20ms/step\n",
            "1/1 [==============================] - 0s 27ms/step\n",
            "1/1 [==============================] - 0s 21ms/step\n",
            "1/1 [==============================] - 0s 30ms/step\n",
            "1/1 [==============================] - 0s 19ms/step\n",
            "1/1 [==============================] - 0s 43ms/step\n",
            "1/1 [==============================] - 0s 20ms/step\n",
            "1/1 [==============================] - 0s 27ms/step\n",
            "1/1 [==============================] - 0s 19ms/step\n",
            "1/1 [==============================] - 0s 20ms/step\n",
            "1/1 [==============================] - 0s 29ms/step\n",
            "1/1 [==============================] - 0s 20ms/step\n",
            "1/1 [==============================] - 0s 22ms/step\n",
            "1/1 [==============================] - 0s 20ms/step\n",
            "1/1 [==============================] - 0s 21ms/step\n",
            "1/1 [==============================] - 0s 22ms/step\n",
            "1/1 [==============================] - 0s 21ms/step\n",
            "1/1 [==============================] - 0s 20ms/step\n",
            "1/1 [==============================] - 0s 28ms/step\n",
            "1/1 [==============================] - 0s 20ms/step\n",
            "1/1 [==============================] - 0s 19ms/step\n",
            "1/1 [==============================] - 0s 19ms/step\n",
            "1/1 [==============================] - 0s 20ms/step\n",
            "1/1 [==============================] - 0s 19ms/step\n",
            "1/1 [==============================] - 0s 20ms/step\n",
            "1/1 [==============================] - 0s 20ms/step\n",
            "1/1 [==============================] - 0s 27ms/step\n",
            "1/1 [==============================] - 0s 21ms/step\n",
            "1/1 [==============================] - 0s 42ms/step\n",
            "1/1 [==============================] - 0s 20ms/step\n",
            "1/1 [==============================] - 0s 35ms/step\n",
            "1/1 [==============================] - 0s 20ms/step\n",
            "1/1 [==============================] - 0s 20ms/step\n",
            "1/1 [==============================] - 0s 36ms/step\n"
          ]
        }
      ]
    },
    {
      "cell_type": "code",
      "source": [
        "validation_features, validation_labels = extract_features(validation_dir, 1000)"
      ],
      "metadata": {
        "id": "BaPUepqUTmQr",
        "colab": {
          "base_uri": "https://localhost:8080/"
        },
        "outputId": "b4af110b-4e23-4a02-9bf1-4ba41a616220"
      },
      "execution_count": null,
      "outputs": [
        {
          "output_type": "stream",
          "name": "stdout",
          "text": [
            "Found 1000 images belonging to 2 classes.\n",
            "1/1 [==============================] - 0s 27ms/step\n",
            "1/1 [==============================] - 0s 20ms/step\n",
            "1/1 [==============================] - 0s 20ms/step\n",
            "1/1 [==============================] - 0s 22ms/step\n",
            "1/1 [==============================] - 0s 29ms/step\n",
            "1/1 [==============================] - 0s 20ms/step\n",
            "1/1 [==============================] - 0s 22ms/step\n",
            "1/1 [==============================] - 0s 19ms/step\n",
            "1/1 [==============================] - 0s 32ms/step\n",
            "1/1 [==============================] - 0s 21ms/step\n",
            "1/1 [==============================] - 0s 20ms/step\n",
            "1/1 [==============================] - 0s 20ms/step\n",
            "1/1 [==============================] - 0s 27ms/step\n",
            "1/1 [==============================] - 0s 22ms/step\n",
            "1/1 [==============================] - 0s 20ms/step\n",
            "1/1 [==============================] - 0s 19ms/step\n",
            "1/1 [==============================] - 0s 26ms/step\n",
            "1/1 [==============================] - 0s 20ms/step\n",
            "1/1 [==============================] - 0s 21ms/step\n",
            "1/1 [==============================] - 0s 20ms/step\n",
            "1/1 [==============================] - 0s 20ms/step\n",
            "1/1 [==============================] - 0s 31ms/step\n",
            "1/1 [==============================] - 0s 21ms/step\n",
            "1/1 [==============================] - 0s 20ms/step\n",
            "1/1 [==============================] - 0s 28ms/step\n",
            "1/1 [==============================] - 0s 20ms/step\n",
            "1/1 [==============================] - 0s 20ms/step\n",
            "1/1 [==============================] - 0s 30ms/step\n",
            "1/1 [==============================] - 0s 20ms/step\n",
            "1/1 [==============================] - 0s 20ms/step\n",
            "1/1 [==============================] - 0s 23ms/step\n",
            "1/1 [==============================] - 0s 21ms/step\n",
            "1/1 [==============================] - 0s 20ms/step\n",
            "1/1 [==============================] - 0s 23ms/step\n",
            "1/1 [==============================] - 0s 31ms/step\n",
            "1/1 [==============================] - 0s 20ms/step\n",
            "1/1 [==============================] - 0s 21ms/step\n",
            "1/1 [==============================] - 0s 29ms/step\n",
            "1/1 [==============================] - 0s 21ms/step\n",
            "1/1 [==============================] - 0s 34ms/step\n",
            "1/1 [==============================] - 0s 20ms/step\n",
            "1/1 [==============================] - 0s 20ms/step\n",
            "1/1 [==============================] - 0s 19ms/step\n",
            "1/1 [==============================] - 0s 20ms/step\n",
            "1/1 [==============================] - 0s 20ms/step\n",
            "1/1 [==============================] - 0s 20ms/step\n",
            "1/1 [==============================] - 0s 27ms/step\n",
            "1/1 [==============================] - 0s 20ms/step\n",
            "1/1 [==============================] - 0s 29ms/step\n",
            "1/1 [==============================] - 0s 31ms/step\n"
          ]
        }
      ]
    },
    {
      "cell_type": "code",
      "source": [
        "import numpy as np"
      ],
      "metadata": {
        "id": "BlbBSF3ZV9TW"
      },
      "execution_count": 9,
      "outputs": []
    },
    {
      "cell_type": "code",
      "source": [
        "np.save('/content/drive/MyDrive/Colab Notebooks/Deep Learning Study/train_features.npy', train_features )\n",
        "np.save('/content/drive/MyDrive/Colab Notebooks/Deep Learning Study/train_labels.npy', train_labels)"
      ],
      "metadata": {
        "id": "Qj2UwkmHuI6Y"
      },
      "execution_count": null,
      "outputs": []
    },
    {
      "cell_type": "code",
      "source": [
        "np.save('/content/drive/MyDrive/Colab Notebooks/Deep Learning Study/test_features.npy', test_features )\n",
        "np.save('/content/drive/MyDrive/Colab Notebooks/Deep Learning Study/test_labels.npy', test_labels)"
      ],
      "metadata": {
        "id": "ATooN9ImuXke"
      },
      "execution_count": null,
      "outputs": []
    },
    {
      "cell_type": "code",
      "source": [
        "np.save('/content/drive/MyDrive/Colab Notebooks/Deep Learning Study/validation_features.npy', validation_features)\n",
        "np.save('/content/drive/MyDrive/Colab Notebooks/Deep Learning Study/validation_labels.npy', validation_labels)"
      ],
      "metadata": {
        "id": "i8cXc13suYLK"
      },
      "execution_count": null,
      "outputs": []
    },
    {
      "cell_type": "code",
      "source": [
        "base_dir = '/content/drive/MyDrive/Colab Notebooks/Deep Learning Study/'"
      ],
      "metadata": {
        "id": "esnuHPrLw0st"
      },
      "execution_count": 11,
      "outputs": []
    },
    {
      "cell_type": "code",
      "source": [
        "loaded_train_features = np.load(os.path.join(base_dir,'train_features.npy'))\n",
        "loaded_train_labels = np.load(os.path.join(base_dir,'train_labels.npy'))\n",
        "\n",
        "loaded_test_features = np.load(os.path.join(base_dir,'test_features.npy'))\n",
        "loaded_test_labels = np.load(os.path.join(base_dir,'test_labels.npy'))\n",
        "\n",
        "loaded_validation_features = np.load(os.path.join(base_dir,'validation_features.npy'))\n",
        "loaded_validation_labels = np.load(os.path.join(base_dir,'validation_labels.npy'))\n"
      ],
      "metadata": {
        "id": "yVAoEXFGuxbZ"
      },
      "execution_count": 12,
      "outputs": []
    },
    {
      "cell_type": "code",
      "source": [
        "loaded_train_features.shape,loaded_test_features.shape,loaded_validation_features.shape\n"
      ],
      "metadata": {
        "colab": {
          "base_uri": "https://localhost:8080/"
        },
        "id": "lSHsmhE7wwaA",
        "outputId": "da5e9ed6-fa5d-463b-f7a2-4885a3daec70"
      },
      "execution_count": 14,
      "outputs": [
        {
          "output_type": "execute_result",
          "data": {
            "text/plain": [
              "((2000, 4, 4, 512), (1000, 4, 4, 512), (1000, 4, 4, 512))"
            ]
          },
          "metadata": {},
          "execution_count": 14
        }
      ]
    },
    {
      "cell_type": "code",
      "source": [
        "import matplotlib.pyplot as plt\n",
        "\n",
        "def plots_with_val(history):\n",
        "  val_acc = history.history['val_acc']\n",
        "  acc = history.history['acc']\n",
        "\n",
        "  val_loss = history.history['val_loss']\n",
        "  loss = history.history['loss']\n",
        "\n",
        "  epochs = history.epoch\n",
        "\n",
        "  fig,axs = plt.subplots(1,2, figsize=(10, 3))\n",
        "  axs[0].plot(epochs,val_acc,'r--',label='Val Acc')\n",
        "  axs[0].plot(epochs,acc,'b',label='Train Acc')\n",
        "  axs[0].legend()\n",
        "  axs[0].set_xlabel('Epochs')\n",
        "  axs[0].set_ylabel('Accuracy')\n",
        "  axs[0].set_title('Accuracy')\n",
        "\n",
        "\n",
        "  axs[1].plot(epochs,val_loss,'r--',label='Val Loss')\n",
        "  axs[1].plot(epochs,loss,'b',label='Train Loss')\n",
        "  axs[1].legend()\n",
        "  axs[1].set_xlabel('Epochs')\n",
        "  axs[1].set_ylabel('Loss')\n",
        "  axs[1].set_title('Loss')\n",
        "\n",
        "  plt.show()"
      ],
      "metadata": {
        "id": "4Nerp0qH-p9a"
      },
      "execution_count": 23,
      "outputs": []
    },
    {
      "cell_type": "markdown",
      "source": [
        "###  Defining and training the densly connected classifier"
      ],
      "metadata": {
        "id": "PkcsSRrwxFQf"
      }
    },
    {
      "cell_type": "code",
      "source": [
        "from keras.models import Sequential\n",
        "from keras.layers import Dense, Dropout\n",
        "from keras import optimizers"
      ],
      "metadata": {
        "id": "ICGQwmhP9k-a"
      },
      "execution_count": 21,
      "outputs": []
    },
    {
      "cell_type": "code",
      "source": [
        "loaded_train_features = np.reshape(loaded_train_features,(2000,4*4*512))\n",
        "loaded_test_features = np.reshape(loaded_test_features,(1000,4*4*512))\n",
        "loaded_validation_features = np.reshape(loaded_validation_features,(1000,4*4*512))"
      ],
      "metadata": {
        "id": "NVJafSZy9uwi"
      },
      "execution_count": 17,
      "outputs": []
    },
    {
      "cell_type": "code",
      "source": [
        "\n",
        "loaded_train_features.shape,loaded_test_features.shape,loaded_validation_features.shape"
      ],
      "metadata": {
        "colab": {
          "base_uri": "https://localhost:8080/"
        },
        "id": "gpBJRTZj-AkA",
        "outputId": "509ab159-e399-4a73-b4c3-47933aca6659"
      },
      "execution_count": 19,
      "outputs": [
        {
          "output_type": "execute_result",
          "data": {
            "text/plain": [
              "((2000, 8192), (1000, 8192), (1000, 8192))"
            ]
          },
          "metadata": {},
          "execution_count": 19
        }
      ]
    },
    {
      "cell_type": "code",
      "source": [
        "model = Sequential()\n",
        "model.add(Dense(256,activation='relu',input_dim=4*4*512))\n",
        "model.add(Dropout(0.5))\n",
        "model.add(Dense(1,activation='sigmoid'))"
      ],
      "metadata": {
        "id": "4Mnas80y9n6e"
      },
      "execution_count": 20,
      "outputs": []
    },
    {
      "cell_type": "code",
      "source": [
        "model.compile(optimizer=optimizers.RMSprop(learning_rate=1e-5),\n",
        "              loss='binary_crossentropy',metrics=['acc'])"
      ],
      "metadata": {
        "id": "vKwMZC8G-Tih"
      },
      "execution_count": 24,
      "outputs": []
    },
    {
      "cell_type": "code",
      "source": [
        "history = model.fit(loaded_train_features,loaded_train_labels,\n",
        "                    epochs=30,\n",
        "                    batch_size=20,\n",
        "                    validation_data = (loaded_validation_features,loaded_validation_labels))"
      ],
      "metadata": {
        "colab": {
          "base_uri": "https://localhost:8080/"
        },
        "id": "ngtfe3SE-m3d",
        "outputId": "b4851982-cfa0-4bea-c463-6a27598f427c"
      },
      "execution_count": 25,
      "outputs": [
        {
          "output_type": "stream",
          "name": "stdout",
          "text": [
            "Epoch 1/30\n",
            "100/100 [==============================] - 4s 33ms/step - loss: 0.6944 - acc: 0.5885 - val_loss: 0.5366 - val_acc: 0.7560\n",
            "Epoch 2/30\n",
            "100/100 [==============================] - 4s 38ms/step - loss: 0.5393 - acc: 0.7315 - val_loss: 0.4523 - val_acc: 0.8100\n",
            "Epoch 3/30\n",
            "100/100 [==============================] - 4s 39ms/step - loss: 0.4413 - acc: 0.7945 - val_loss: 0.4165 - val_acc: 0.8270\n",
            "Epoch 4/30\n",
            "100/100 [==============================] - 3s 26ms/step - loss: 0.3964 - acc: 0.8275 - val_loss: 0.3760 - val_acc: 0.8430\n",
            "Epoch 5/30\n",
            "100/100 [==============================] - 3s 32ms/step - loss: 0.3690 - acc: 0.8405 - val_loss: 0.3555 - val_acc: 0.8560\n",
            "Epoch 6/30\n",
            "100/100 [==============================] - 4s 39ms/step - loss: 0.3357 - acc: 0.8625 - val_loss: 0.3375 - val_acc: 0.8570\n",
            "Epoch 7/30\n",
            "100/100 [==============================] - 4s 44ms/step - loss: 0.3197 - acc: 0.8745 - val_loss: 0.3283 - val_acc: 0.8670\n",
            "Epoch 8/30\n",
            "100/100 [==============================] - 4s 35ms/step - loss: 0.3033 - acc: 0.8750 - val_loss: 0.3204 - val_acc: 0.8690\n",
            "Epoch 9/30\n",
            "100/100 [==============================] - 3s 30ms/step - loss: 0.2896 - acc: 0.8775 - val_loss: 0.3149 - val_acc: 0.8580\n",
            "Epoch 10/30\n",
            "100/100 [==============================] - 3s 29ms/step - loss: 0.2816 - acc: 0.8840 - val_loss: 0.3058 - val_acc: 0.8670\n",
            "Epoch 11/30\n",
            "100/100 [==============================] - 3s 34ms/step - loss: 0.2739 - acc: 0.8920 - val_loss: 0.3013 - val_acc: 0.8680\n",
            "Epoch 12/30\n",
            "100/100 [==============================] - 4s 40ms/step - loss: 0.2615 - acc: 0.8960 - val_loss: 0.2966 - val_acc: 0.8820\n",
            "Epoch 13/30\n",
            "100/100 [==============================] - 3s 27ms/step - loss: 0.2477 - acc: 0.9095 - val_loss: 0.2927 - val_acc: 0.8740\n",
            "Epoch 14/30\n",
            "100/100 [==============================] - 3s 29ms/step - loss: 0.2434 - acc: 0.9090 - val_loss: 0.2926 - val_acc: 0.8790\n",
            "Epoch 15/30\n",
            "100/100 [==============================] - 3s 30ms/step - loss: 0.2328 - acc: 0.9085 - val_loss: 0.2901 - val_acc: 0.8700\n",
            "Epoch 16/30\n",
            "100/100 [==============================] - 3s 34ms/step - loss: 0.2305 - acc: 0.9075 - val_loss: 0.2842 - val_acc: 0.8770\n",
            "Epoch 17/30\n",
            "100/100 [==============================] - 4s 44ms/step - loss: 0.2197 - acc: 0.9215 - val_loss: 0.2818 - val_acc: 0.8770\n",
            "Epoch 18/30\n",
            "100/100 [==============================] - 3s 29ms/step - loss: 0.2159 - acc: 0.9250 - val_loss: 0.2821 - val_acc: 0.8820\n",
            "Epoch 19/30\n",
            "100/100 [==============================] - 3s 28ms/step - loss: 0.2065 - acc: 0.9225 - val_loss: 0.2786 - val_acc: 0.8820\n",
            "Epoch 20/30\n",
            "100/100 [==============================] - 3s 32ms/step - loss: 0.2005 - acc: 0.9255 - val_loss: 0.2776 - val_acc: 0.8800\n",
            "Epoch 21/30\n",
            "100/100 [==============================] - 3s 35ms/step - loss: 0.1997 - acc: 0.9295 - val_loss: 0.2775 - val_acc: 0.8840\n",
            "Epoch 22/30\n",
            "100/100 [==============================] - 4s 40ms/step - loss: 0.1844 - acc: 0.9375 - val_loss: 0.2734 - val_acc: 0.8820\n",
            "Epoch 23/30\n",
            "100/100 [==============================] - 3s 32ms/step - loss: 0.1888 - acc: 0.9335 - val_loss: 0.2724 - val_acc: 0.8850\n",
            "Epoch 24/30\n",
            "100/100 [==============================] - 3s 31ms/step - loss: 0.1847 - acc: 0.9340 - val_loss: 0.2697 - val_acc: 0.8840\n",
            "Epoch 25/30\n",
            "100/100 [==============================] - 3s 28ms/step - loss: 0.1796 - acc: 0.9385 - val_loss: 0.2748 - val_acc: 0.8820\n",
            "Epoch 26/30\n",
            "100/100 [==============================] - 5s 47ms/step - loss: 0.1764 - acc: 0.9380 - val_loss: 0.2679 - val_acc: 0.8830\n",
            "Epoch 27/30\n",
            "100/100 [==============================] - 3s 30ms/step - loss: 0.1710 - acc: 0.9425 - val_loss: 0.2671 - val_acc: 0.8850\n",
            "Epoch 28/30\n",
            "100/100 [==============================] - 3s 27ms/step - loss: 0.1721 - acc: 0.9330 - val_loss: 0.2664 - val_acc: 0.8850\n",
            "Epoch 29/30\n",
            "100/100 [==============================] - 3s 30ms/step - loss: 0.1658 - acc: 0.9425 - val_loss: 0.2652 - val_acc: 0.8850\n",
            "Epoch 30/30\n",
            "100/100 [==============================] - 3s 27ms/step - loss: 0.1654 - acc: 0.9430 - val_loss: 0.2644 - val_acc: 0.8820\n"
          ]
        }
      ]
    },
    {
      "cell_type": "code",
      "source": [
        "plots_with_val(history)"
      ],
      "metadata": {
        "colab": {
          "base_uri": "https://localhost:8080/",
          "height": 333
        },
        "id": "nV7Kg_gq-nXO",
        "outputId": "a41f19b6-1ff1-4155-9eb8-b28385a07848"
      },
      "execution_count": 26,
      "outputs": [
        {
          "output_type": "display_data",
          "data": {
            "text/plain": [
              "<Figure size 1000x300 with 2 Axes>"
            ],
            "image/png": "[encoded data removed]"
          },
          "metadata": {}
        }
      ]
    },
    {
      "cell_type": "code",
      "source": [],
      "metadata": {
        "id": "ipj9pxig-nwM"
      },
      "execution_count": null,
      "outputs": []
    }
  ]
}