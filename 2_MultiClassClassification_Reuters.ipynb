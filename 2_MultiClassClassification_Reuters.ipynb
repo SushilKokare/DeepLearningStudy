{
  "nbformat": 4,
  "nbformat_minor": 0,
  "metadata": {
    "colab": {
      "provenance": [],
      "authorship_tag": "ABX9TyOZXg7xmMNdNKkTQkPz/nDn",
      "include_colab_link": true
    },
    "kernelspec": {
      "name": "python3",
      "display_name": "Python 3"
    },
    "language_info": {
      "name": "python"
    }
  },
  "cells": [
    {
      "cell_type": "markdown",
      "metadata": {
        "id": "view-in-github",
        "colab_type": "text"
      },
      "source": [
        "<a href=\"https://colab.research.google.com/github/SushilKokare/DeepLearningStudy/blob/main/2_MultiClassClassification_Reuters.ipynb\" target=\"_parent\"><img src=\"https://colab.research.google.com/assets/colab-badge.svg\" alt=\"Open In Colab\"/></a>"
      ]
    },
    {
      "cell_type": "code",
      "execution_count": 1,
      "metadata": {
        "id": "9zkRsXbP3FWT"
      },
      "outputs": [],
      "source": [
        "from keras.datasets import reuters"
      ]
    },
    {
      "cell_type": "code",
      "source": [
        "(xtr,ytr),(xts,yts) =  reuters.load_data(num_words=10000)"
      ],
      "metadata": {
        "colab": {
          "base_uri": "https://localhost:8080/"
        },
        "id": "1MCfKtdG3Saf",
        "outputId": "6befcb63-1a5a-46a2-de84-979dbae37ef2"
      },
      "execution_count": 3,
      "outputs": [
        {
          "output_type": "stream",
          "name": "stdout",
          "text": [
            "Downloading data from https://storage.googleapis.com/tensorflow/tf-keras-datasets/reuters.npz\n",
            "2110848/2110848 [==============================] - 0s 0us/step\n"
          ]
        }
      ]
    },
    {
      "cell_type": "code",
      "source": [
        "xtr.shape, ytr.shape, xts.shape, yts.shape"
      ],
      "metadata": {
        "colab": {
          "base_uri": "https://localhost:8080/"
        },
        "id": "Fgclr8Il3alx",
        "outputId": "09280e38-7fa0-469e-df44-c432e7c97ef4"
      },
      "execution_count": 4,
      "outputs": [
        {
          "output_type": "execute_result",
          "data": {
            "text/plain": [
              "((8982,), (8982,), (2246,), (2246,))"
            ]
          },
          "metadata": {},
          "execution_count": 4
        }
      ]
    },
    {
      "cell_type": "code",
      "source": [
        "8981+2246"
      ],
      "metadata": {
        "colab": {
          "base_uri": "https://localhost:8080/"
        },
        "id": "4A-TiX763f9J",
        "outputId": "225838eb-34be-4092-b318-a45c1f8c9de6"
      },
      "execution_count": 5,
      "outputs": [
        {
          "output_type": "execute_result",
          "data": {
            "text/plain": [
              "11227"
            ]
          },
          "metadata": {},
          "execution_count": 5
        }
      ]
    },
    {
      "cell_type": "code",
      "source": [
        "print(xtr[0])"
      ],
      "metadata": {
        "colab": {
          "base_uri": "https://localhost:8080/"
        },
        "id": "ieE5cd7h3lcQ",
        "outputId": "61582bbc-b9c1-4f68-e2d1-4de3813248cb"
      },
      "execution_count": 6,
      "outputs": [
        {
          "output_type": "stream",
          "name": "stdout",
          "text": [
            "[1, 2, 2, 8, 43, 10, 447, 5, 25, 207, 270, 5, 3095, 111, 16, 369, 186, 90, 67, 7, 89, 5, 19, 102, 6, 19, 124, 15, 90, 67, 84, 22, 482, 26, 7, 48, 4, 49, 8, 864, 39, 209, 154, 6, 151, 6, 83, 11, 15, 22, 155, 11, 15, 7, 48, 9, 4579, 1005, 504, 6, 258, 6, 272, 11, 15, 22, 134, 44, 11, 15, 16, 8, 197, 1245, 90, 67, 52, 29, 209, 30, 32, 132, 6, 109, 15, 17, 12]\n"
          ]
        }
      ]
    },
    {
      "cell_type": "code",
      "source": [
        "word_index = reuters.get_word_index()"
      ],
      "metadata": {
        "colab": {
          "base_uri": "https://localhost:8080/"
        },
        "id": "DBv7tfWR3o8n",
        "outputId": "91040953-ad52-4465-b3e6-c840a7e63a70"
      },
      "execution_count": 7,
      "outputs": [
        {
          "output_type": "stream",
          "name": "stdout",
          "text": [
            "Downloading data from https://storage.googleapis.com/tensorflow/tf-keras-datasets/reuters_word_index.json\n",
            "550378/550378 [==============================] - 0s 0us/step\n"
          ]
        }
      ]
    },
    {
      "cell_type": "code",
      "source": [
        "reverse_word_index = dict( [(value,key) for (key,value) in word_index.items()] )"
      ],
      "metadata": {
        "id": "V41pwdgJ3tEI"
      },
      "execution_count": 8,
      "outputs": []
    },
    {
      "cell_type": "code",
      "source": [
        "decoded_review = ' '.join([reverse_word_index.get(i-3,'?') for i in xtr[0]])\n",
        "decoded_review"
      ],
      "metadata": {
        "colab": {
          "base_uri": "https://localhost:8080/",
          "height": 69
        },
        "id": "nbNoLGWS30kH",
        "outputId": "48e09cf5-c8ed-4274-d655-ca7c4d1ac6eb"
      },
      "execution_count": 9,
      "outputs": [
        {
          "output_type": "execute_result",
          "data": {
            "text/plain": [
              "'? ? ? said as a result of its december acquisition of space co it expects earnings per share in 1987 of 1 15 to 1 30 dlrs per share up from 70 cts in 1986 the company said pretax net should rise to nine to 10 mln dlrs from six mln dlrs in 1986 and rental operation revenues to 19 to 22 mln dlrs from 12 5 mln dlrs it said cash flow per share this year should be 2 50 to three dlrs reuter 3'"
            ],
            "application/vnd.google.colaboratory.intrinsic+json": {
              "type": "string"
            }
          },
          "metadata": {},
          "execution_count": 9
        }
      ]
    },
    {
      "cell_type": "code",
      "source": [
        "ytr[0]"
      ],
      "metadata": {
        "colab": {
          "base_uri": "https://localhost:8080/"
        },
        "id": "Q88vDgSd4DCM",
        "outputId": "cb406f9b-cf6a-4674-9e4a-9f62cc48ffdf"
      },
      "execution_count": 10,
      "outputs": [
        {
          "output_type": "execute_result",
          "data": {
            "text/plain": [
              "3"
            ]
          },
          "metadata": {},
          "execution_count": 10
        }
      ]
    },
    {
      "cell_type": "markdown",
      "source": [
        "### Embedding the data"
      ],
      "metadata": {
        "id": "bdIdPmm-4HSu"
      }
    },
    {
      "cell_type": "code",
      "source": [
        "import numpy as np"
      ],
      "metadata": {
        "id": "H7Ic6mo34cfO"
      },
      "execution_count": 11,
      "outputs": []
    },
    {
      "cell_type": "code",
      "source": [
        "def vectorize_sequences(sequences,dimension=10000):\n",
        "  results = np.zeros((len(sequences),dimension))\n",
        "  for i,sequence in enumerate(sequences):\n",
        "    results[i,sequence] = 1\n",
        "  return results"
      ],
      "metadata": {
        "id": "tS9GdQz34RK2"
      },
      "execution_count": 12,
      "outputs": []
    },
    {
      "cell_type": "code",
      "source": [
        "xtr = vectorize_sequences(xtr)\n",
        "xts = vectorize_sequences(xts)"
      ],
      "metadata": {
        "id": "7X7Gx00n4mY-"
      },
      "execution_count": 13,
      "outputs": []
    },
    {
      "cell_type": "code",
      "source": [
        "xtr.shape, xts.shape"
      ],
      "metadata": {
        "colab": {
          "base_uri": "https://localhost:8080/"
        },
        "id": "5-1McH2i4qBl",
        "outputId": "8a7676bf-2601-4345-a8f3-7eb4d1ed3274"
      },
      "execution_count": 15,
      "outputs": [
        {
          "output_type": "execute_result",
          "data": {
            "text/plain": [
              "((8982, 10000), (2246, 10000))"
            ]
          },
          "metadata": {},
          "execution_count": 15
        }
      ]
    },
    {
      "cell_type": "code",
      "source": [
        "def to_one_hot(labels,dimension=46):\n",
        "  results = np.zeros((len(labels),dimension))\n",
        "  for i, label in enumerate(labels):\n",
        "    results[i,label] = 1\n",
        "  return results"
      ],
      "metadata": {
        "id": "G7T50lUQ4r4o"
      },
      "execution_count": 16,
      "outputs": []
    },
    {
      "cell_type": "code",
      "source": [
        "one_hot_ytr = to_one_hot(ytr)\n",
        "one_hot_yts = to_one_hot(yts)"
      ],
      "metadata": {
        "id": "-2QBbJeZ5J5F"
      },
      "execution_count": 17,
      "outputs": []
    },
    {
      "cell_type": "code",
      "source": [
        "one_hot_ytr.shape, one_hot_yts.shape"
      ],
      "metadata": {
        "colab": {
          "base_uri": "https://localhost:8080/"
        },
        "id": "ezm-bqa65So5",
        "outputId": "7d3eb870-9f0c-424b-d0d1-294405bfe2a6"
      },
      "execution_count": 18,
      "outputs": [
        {
          "output_type": "execute_result",
          "data": {
            "text/plain": [
              "((8982, 46), (2246, 46))"
            ]
          },
          "metadata": {},
          "execution_count": 18
        }
      ]
    },
    {
      "cell_type": "markdown",
      "source": [
        "### Using inbuilt to_categorical function"
      ],
      "metadata": {
        "id": "mX-fiuaB5c7c"
      }
    },
    {
      "cell_type": "code",
      "source": [
        "from keras.utils import to_categorical"
      ],
      "metadata": {
        "id": "PneBY5kZ5YKV"
      },
      "execution_count": 21,
      "outputs": []
    },
    {
      "cell_type": "code",
      "source": [
        "one_hot_ytr = to_categorical(ytr)\n",
        "one_hot_yts = to_categorical(yts)"
      ],
      "metadata": {
        "id": "MPtwnYHl5lsE"
      },
      "execution_count": 22,
      "outputs": []
    },
    {
      "cell_type": "code",
      "source": [
        "one_hot_ytr.shape, one_hot_yts.shape"
      ],
      "metadata": {
        "colab": {
          "base_uri": "https://localhost:8080/"
        },
        "id": "BiGelXSy6AMj",
        "outputId": "bbf7104b-b8e8-4f86-d4f7-5beb6a0480de"
      },
      "execution_count": 23,
      "outputs": [
        {
          "output_type": "execute_result",
          "data": {
            "text/plain": [
              "((8982, 46), (2246, 46))"
            ]
          },
          "metadata": {},
          "execution_count": 23
        }
      ]
    },
    {
      "cell_type": "markdown",
      "source": [
        "### Building Network"
      ],
      "metadata": {
        "id": "LgenEKD96CFL"
      }
    },
    {
      "cell_type": "code",
      "source": [
        "from keras.models import Sequential\n",
        "from keras.layers import Dense"
      ],
      "metadata": {
        "id": "qs6v8XWj6FSC"
      },
      "execution_count": 24,
      "outputs": []
    },
    {
      "cell_type": "code",
      "source": [
        "model = Sequential()\n",
        "model.add(Dense(64,activation='relu',input_shape=(10000,)))\n",
        "model.add(Dense(64,activation='relu'))\n",
        "model.add(Dense(46,activation='softmax'))"
      ],
      "metadata": {
        "id": "-ikyJXzE6ioy"
      },
      "execution_count": 26,
      "outputs": []
    },
    {
      "cell_type": "code",
      "source": [
        "model.compile(loss='categorical_crossentropy',optimizer='rmsprop',metrics=['accuracy'])"
      ],
      "metadata": {
        "id": "uVfniYkU6mcx"
      },
      "execution_count": 27,
      "outputs": []
    },
    {
      "cell_type": "code",
      "source": [
        "x_val = xtr[:1000]\n",
        "partial_x_train = xtr[1000:]\n",
        "\n",
        "y_val = one_hot_ytr[:1000]\n",
        "partial_y_train = one_hot_ytr[1000:]"
      ],
      "metadata": {
        "id": "RhhEuWvM6ysR"
      },
      "execution_count": 28,
      "outputs": []
    },
    {
      "cell_type": "code",
      "source": [
        "history = model.fit(partial_x_train,partial_y_train,\n",
        "         epochs=20,batch_size=512,\n",
        "         validation_data=(x_val,y_val))"
      ],
      "metadata": {
        "colab": {
          "base_uri": "https://localhost:8080/"
        },
        "id": "hjeNX7G97BtJ",
        "outputId": "e2eb57d3-47d7-4319-ecbc-6ea9cd704d82"
      },
      "execution_count": 30,
      "outputs": [
        {
          "output_type": "stream",
          "name": "stdout",
          "text": [
            "Epoch 1/20\n",
            "16/16 [==============================] - 4s 152ms/step - loss: 2.8037 - accuracy: 0.5015 - val_loss: 1.8870 - val_accuracy: 0.6050\n",
            "Epoch 2/20\n",
            "16/16 [==============================] - 1s 58ms/step - loss: 1.5867 - accuracy: 0.6730 - val_loss: 1.4135 - val_accuracy: 0.6890\n",
            "Epoch 3/20\n",
            "16/16 [==============================] - 1s 61ms/step - loss: 1.2191 - accuracy: 0.7378 - val_loss: 1.2391 - val_accuracy: 0.7370\n",
            "Epoch 4/20\n",
            "16/16 [==============================] - 1s 61ms/step - loss: 0.9951 - accuracy: 0.7880 - val_loss: 1.1014 - val_accuracy: 0.7690\n",
            "Epoch 5/20\n",
            "16/16 [==============================] - 1s 62ms/step - loss: 0.8269 - accuracy: 0.8277 - val_loss: 1.0230 - val_accuracy: 0.7900\n",
            "Epoch 6/20\n",
            "16/16 [==============================] - 1s 58ms/step - loss: 0.6917 - accuracy: 0.8530 - val_loss: 0.9725 - val_accuracy: 0.8000\n",
            "Epoch 7/20\n",
            "16/16 [==============================] - 1s 59ms/step - loss: 0.5773 - accuracy: 0.8773 - val_loss: 0.9460 - val_accuracy: 0.7980\n",
            "Epoch 8/20\n",
            "16/16 [==============================] - 1s 59ms/step - loss: 0.4846 - accuracy: 0.8960 - val_loss: 0.9003 - val_accuracy: 0.8130\n",
            "Epoch 9/20\n",
            "16/16 [==============================] - 1s 63ms/step - loss: 0.4106 - accuracy: 0.9138 - val_loss: 0.8881 - val_accuracy: 0.8160\n",
            "Epoch 10/20\n",
            "16/16 [==============================] - 1s 59ms/step - loss: 0.3449 - accuracy: 0.9258 - val_loss: 0.9729 - val_accuracy: 0.7950\n",
            "Epoch 11/20\n",
            "16/16 [==============================] - 1s 56ms/step - loss: 0.3011 - accuracy: 0.9339 - val_loss: 0.8838 - val_accuracy: 0.8120\n",
            "Epoch 12/20\n",
            "16/16 [==============================] - 1s 85ms/step - loss: 0.2640 - accuracy: 0.9405 - val_loss: 0.9086 - val_accuracy: 0.8120\n",
            "Epoch 13/20\n",
            "16/16 [==============================] - 1s 86ms/step - loss: 0.2319 - accuracy: 0.9464 - val_loss: 0.8985 - val_accuracy: 0.8180\n",
            "Epoch 14/20\n",
            "16/16 [==============================] - 1s 94ms/step - loss: 0.2054 - accuracy: 0.9493 - val_loss: 0.9001 - val_accuracy: 0.8210\n",
            "Epoch 15/20\n",
            "16/16 [==============================] - 1s 65ms/step - loss: 0.1903 - accuracy: 0.9501 - val_loss: 0.9235 - val_accuracy: 0.8100\n",
            "Epoch 16/20\n",
            "16/16 [==============================] - 1s 59ms/step - loss: 0.1712 - accuracy: 0.9526 - val_loss: 0.9192 - val_accuracy: 0.8180\n",
            "Epoch 17/20\n",
            "16/16 [==============================] - 1s 60ms/step - loss: 0.1592 - accuracy: 0.9558 - val_loss: 0.9657 - val_accuracy: 0.8120\n",
            "Epoch 18/20\n",
            "16/16 [==============================] - 1s 62ms/step - loss: 0.1498 - accuracy: 0.9543 - val_loss: 0.9791 - val_accuracy: 0.8070\n",
            "Epoch 19/20\n",
            "16/16 [==============================] - 1s 63ms/step - loss: 0.1413 - accuracy: 0.9564 - val_loss: 0.9988 - val_accuracy: 0.8030\n",
            "Epoch 20/20\n",
            "16/16 [==============================] - 1s 57ms/step - loss: 0.1334 - accuracy: 0.9564 - val_loss: 1.0311 - val_accuracy: 0.7960\n"
          ]
        }
      ]
    },
    {
      "cell_type": "code",
      "source": [
        "import pandas as pd\n",
        "\n",
        "pd.DataFrame(history.history)"
      ],
      "metadata": {
        "colab": {
          "base_uri": "https://localhost:8080/",
          "height": 669
        },
        "id": "tQownoVx8s9t",
        "outputId": "a5e733ee-9fbb-4355-9804-cdc654c7872d"
      },
      "execution_count": 46,
      "outputs": [
        {
          "output_type": "execute_result",
          "data": {
            "text/plain": [
              "        loss  accuracy  val_loss  val_accuracy\n",
              "0   2.803713  0.501503  1.887047         0.605\n",
              "1   1.586698  0.673014  1.413487         0.689\n",
              "2   1.219141  0.737785  1.239095         0.737\n",
              "3   0.995064  0.788023  1.101416         0.769\n",
              "4   0.826941  0.827737  1.022962         0.790\n",
              "5   0.691690  0.853044  0.972521         0.800\n",
              "6   0.577344  0.877349  0.946037         0.798\n",
              "7   0.484567  0.896016  0.900282         0.813\n",
              "8   0.410551  0.913806  0.888072         0.816\n",
              "9   0.344929  0.925833  0.972902         0.795\n",
              "10  0.301145  0.933851  0.883763         0.812\n",
              "11  0.264025  0.940491  0.908573         0.812\n",
              "12  0.231869  0.946379  0.898497         0.818\n",
              "13  0.205431  0.949261  0.900139         0.821\n",
              "14  0.190344  0.950138  0.923511         0.810\n",
              "15  0.171173  0.952643  0.919247         0.818\n",
              "16  0.159242  0.955775  0.965726         0.812\n",
              "17  0.149772  0.954272  0.979055         0.807\n",
              "18  0.141286  0.956402  0.998760         0.803\n",
              "19  0.133393  0.956402  1.031134         0.796"
            ],
            "text/html": [
              "\n",
              "  <div id=\"df-6673f0d1-11cf-4eda-a372-b3a80b976c9c\" class=\"colab-df-container\">\n",
              "    <div>\n",
              "<style scoped>\n",
              "    .dataframe tbody tr th:only-of-type {\n",
              "        vertical-align: middle;\n",
              "    }\n",
              "\n",
              "    .dataframe tbody tr th {\n",
              "        vertical-align: top;\n",
              "    }\n",
              "\n",
              "    .dataframe thead th {\n",
              "        text-align: right;\n",
              "    }\n",
              "</style>\n",
              "<table border=\"1\" class=\"dataframe\">\n",
              "  <thead>\n",
              "    <tr style=\"text-align: right;\">\n",
              "      <th></th>\n",
              "      <th>loss</th>\n",
              "      <th>accuracy</th>\n",
              "      <th>val_loss</th>\n",
              "      <th>val_accuracy</th>\n",
              "    </tr>\n",
              "  </thead>\n",
              "  <tbody>\n",
              "    <tr>\n",
              "      <th>0</th>\n",
              "      <td>2.803713</td>\n",
              "      <td>0.501503</td>\n",
              "      <td>1.887047</td>\n",
              "      <td>0.605</td>\n",
              "    </tr>\n",
              "    <tr>\n",
              "      <th>1</th>\n",
              "      <td>1.586698</td>\n",
              "      <td>0.673014</td>\n",
              "      <td>1.413487</td>\n",
              "      <td>0.689</td>\n",
              "    </tr>\n",
              "    <tr>\n",
              "      <th>2</th>\n",
              "      <td>1.219141</td>\n",
              "      <td>0.737785</td>\n",
              "      <td>1.239095</td>\n",
              "      <td>0.737</td>\n",
              "    </tr>\n",
              "    <tr>\n",
              "      <th>3</th>\n",
              "      <td>0.995064</td>\n",
              "      <td>0.788023</td>\n",
              "      <td>1.101416</td>\n",
              "      <td>0.769</td>\n",
              "    </tr>\n",
              "    <tr>\n",
              "      <th>4</th>\n",
              "      <td>0.826941</td>\n",
              "      <td>0.827737</td>\n",
              "      <td>1.022962</td>\n",
              "      <td>0.790</td>\n",
              "    </tr>\n",
              "    <tr>\n",
              "      <th>5</th>\n",
              "      <td>0.691690</td>\n",
              "      <td>0.853044</td>\n",
              "      <td>0.972521</td>\n",
              "      <td>0.800</td>\n",
              "    </tr>\n",
              "    <tr>\n",
              "      <th>6</th>\n",
              "      <td>0.577344</td>\n",
              "      <td>0.877349</td>\n",
              "      <td>0.946037</td>\n",
              "      <td>0.798</td>\n",
              "    </tr>\n",
              "    <tr>\n",
              "      <th>7</th>\n",
              "      <td>0.484567</td>\n",
              "      <td>0.896016</td>\n",
              "      <td>0.900282</td>\n",
              "      <td>0.813</td>\n",
              "    </tr>\n",
              "    <tr>\n",
              "      <th>8</th>\n",
              "      <td>0.410551</td>\n",
              "      <td>0.913806</td>\n",
              "      <td>0.888072</td>\n",
              "      <td>0.816</td>\n",
              "    </tr>\n",
              "    <tr>\n",
              "      <th>9</th>\n",
              "      <td>0.344929</td>\n",
              "      <td>0.925833</td>\n",
              "      <td>0.972902</td>\n",
              "      <td>0.795</td>\n",
              "    </tr>\n",
              "    <tr>\n",
              "      <th>10</th>\n",
              "      <td>0.301145</td>\n",
              "      <td>0.933851</td>\n",
              "      <td>0.883763</td>\n",
              "      <td>0.812</td>\n",
              "    </tr>\n",
              "    <tr>\n",
              "      <th>11</th>\n",
              "      <td>0.264025</td>\n",
              "      <td>0.940491</td>\n",
              "      <td>0.908573</td>\n",
              "      <td>0.812</td>\n",
              "    </tr>\n",
              "    <tr>\n",
              "      <th>12</th>\n",
              "      <td>0.231869</td>\n",
              "      <td>0.946379</td>\n",
              "      <td>0.898497</td>\n",
              "      <td>0.818</td>\n",
              "    </tr>\n",
              "    <tr>\n",
              "      <th>13</th>\n",
              "      <td>0.205431</td>\n",
              "      <td>0.949261</td>\n",
              "      <td>0.900139</td>\n",
              "      <td>0.821</td>\n",
              "    </tr>\n",
              "    <tr>\n",
              "      <th>14</th>\n",
              "      <td>0.190344</td>\n",
              "      <td>0.950138</td>\n",
              "      <td>0.923511</td>\n",
              "      <td>0.810</td>\n",
              "    </tr>\n",
              "    <tr>\n",
              "      <th>15</th>\n",
              "      <td>0.171173</td>\n",
              "      <td>0.952643</td>\n",
              "      <td>0.919247</td>\n",
              "      <td>0.818</td>\n",
              "    </tr>\n",
              "    <tr>\n",
              "      <th>16</th>\n",
              "      <td>0.159242</td>\n",
              "      <td>0.955775</td>\n",
              "      <td>0.965726</td>\n",
              "      <td>0.812</td>\n",
              "    </tr>\n",
              "    <tr>\n",
              "      <th>17</th>\n",
              "      <td>0.149772</td>\n",
              "      <td>0.954272</td>\n",
              "      <td>0.979055</td>\n",
              "      <td>0.807</td>\n",
              "    </tr>\n",
              "    <tr>\n",
              "      <th>18</th>\n",
              "      <td>0.141286</td>\n",
              "      <td>0.956402</td>\n",
              "      <td>0.998760</td>\n",
              "      <td>0.803</td>\n",
              "    </tr>\n",
              "    <tr>\n",
              "      <th>19</th>\n",
              "      <td>0.133393</td>\n",
              "      <td>0.956402</td>\n",
              "      <td>1.031134</td>\n",
              "      <td>0.796</td>\n",
              "    </tr>\n",
              "  </tbody>\n",
              "</table>\n",
              "</div>\n",
              "    <div class=\"colab-df-buttons\">\n",
              "\n",
              "  <div class=\"colab-df-container\">\n",
              "    <button class=\"colab-df-convert\" onclick=\"convertToInteractive('df-6673f0d1-11cf-4eda-a372-b3a80b976c9c')\"\n",
              "            title=\"Convert this dataframe to an interactive table.\"\n",
              "            style=\"display:none;\">\n",
              "\n",
              "  <svg xmlns=\"http://www.w3.org/2000/svg\" height=\"24px\" viewBox=\"0 -960 960 960\">\n",
              "    <path d=\"M120-120v-720h720v720H120Zm60-500h600v-160H180v160Zm220 220h160v-160H400v160Zm0 220h160v-160H400v160ZM180-400h160v-160H180v160Zm440 0h160v-160H620v160ZM180-180h160v-160H180v160Zm440 0h160v-160H620v160Z\"/>\n",
              "  </svg>\n",
              "    </button>\n",
              "\n",
              "  <style>\n",
              "    .colab-df-container {\n",
              "      display:flex;\n",
              "      gap: 12px;\n",
              "    }\n",
              "\n",
              "    .colab-df-convert {\n",
              "      background-color: #E8F0FE;\n",
              "      border: none;\n",
              "      border-radius: 50%;\n",
              "      cursor: pointer;\n",
              "      display: none;\n",
              "      fill: #1967D2;\n",
              "      height: 32px;\n",
              "      padding: 0 0 0 0;\n",
              "      width: 32px;\n",
              "    }\n",
              "\n",
              "    .colab-df-convert:hover {\n",
              "      background-color: #E2EBFA;\n",
              "      box-shadow: 0px 1px 2px rgba(60, 64, 67, 0.3), 0px 1px 3px 1px rgba(60, 64, 67, 0.15);\n",
              "      fill: #174EA6;\n",
              "    }\n",
              "\n",
              "    .colab-df-buttons div {\n",
              "      margin-bottom: 4px;\n",
              "    }\n",
              "\n",
              "    [theme=dark] .colab-df-convert {\n",
              "      background-color: #3B4455;\n",
              "      fill: #D2E3FC;\n",
              "    }\n",
              "\n",
              "    [theme=dark] .colab-df-convert:hover {\n",
              "      background-color: #434B5C;\n",
              "      box-shadow: 0px 1px 3px 1px rgba(0, 0, 0, 0.15);\n",
              "      filter: drop-shadow(0px 1px 2px rgba(0, 0, 0, 0.3));\n",
              "      fill: #FFFFFF;\n",
              "    }\n",
              "  </style>\n",
              "\n",
              "    <script>\n",
              "      const buttonEl =\n",
              "        document.querySelector('#df-6673f0d1-11cf-4eda-a372-b3a80b976c9c button.colab-df-convert');\n",
              "      buttonEl.style.display =\n",
              "        google.colab.kernel.accessAllowed ? 'block' : 'none';\n",
              "\n",
              "      async function convertToInteractive(key) {\n",
              "        const element = document.querySelector('#df-6673f0d1-11cf-4eda-a372-b3a80b976c9c');\n",
              "        const dataTable =\n",
              "          await google.colab.kernel.invokeFunction('convertToInteractive',\n",
              "                                                    [key], {});\n",
              "        if (!dataTable) return;\n",
              "\n",
              "        const docLinkHtml = 'Like what you see? Visit the ' +\n",
              "          '<a target=\"_blank\" href=https://colab.research.google.com/notebooks/data_table.ipynb>data table notebook</a>'\n",
              "          + ' to learn more about interactive tables.';\n",
              "        element.innerHTML = '';\n",
              "        dataTable['output_type'] = 'display_data';\n",
              "        await google.colab.output.renderOutput(dataTable, element);\n",
              "        const docLink = document.createElement('div');\n",
              "        docLink.innerHTML = docLinkHtml;\n",
              "        element.appendChild(docLink);\n",
              "      }\n",
              "    </script>\n",
              "  </div>\n",
              "\n",
              "\n",
              "<div id=\"df-d16749e9-6d13-4eef-a43f-1db6ea9372dc\">\n",
              "  <button class=\"colab-df-quickchart\" onclick=\"quickchart('df-d16749e9-6d13-4eef-a43f-1db6ea9372dc')\"\n",
              "            title=\"Suggest charts\"\n",
              "            style=\"display:none;\">\n",
              "\n",
              "<svg xmlns=\"http://www.w3.org/2000/svg\" height=\"24px\"viewBox=\"0 0 24 24\"\n",
              "     width=\"24px\">\n",
              "    <g>\n",
              "        <path d=\"M19 3H5c-1.1 0-2 .9-2 2v14c0 1.1.9 2 2 2h14c1.1 0 2-.9 2-2V5c0-1.1-.9-2-2-2zM9 17H7v-7h2v7zm4 0h-2V7h2v10zm4 0h-2v-4h2v4z\"/>\n",
              "    </g>\n",
              "</svg>\n",
              "  </button>\n",
              "\n",
              "<style>\n",
              "  .colab-df-quickchart {\n",
              "      --bg-color: #E8F0FE;\n",
              "      --fill-color: #1967D2;\n",
              "      --hover-bg-color: #E2EBFA;\n",
              "      --hover-fill-color: #174EA6;\n",
              "      --disabled-fill-color: #AAA;\n",
              "      --disabled-bg-color: #DDD;\n",
              "  }\n",
              "\n",
              "  [theme=dark] .colab-df-quickchart {\n",
              "      --bg-color: #3B4455;\n",
              "      --fill-color: #D2E3FC;\n",
              "      --hover-bg-color: #434B5C;\n",
              "      --hover-fill-color: #FFFFFF;\n",
              "      --disabled-bg-color: #3B4455;\n",
              "      --disabled-fill-color: #666;\n",
              "  }\n",
              "\n",
              "  .colab-df-quickchart {\n",
              "    background-color: var(--bg-color);\n",
              "    border: none;\n",
              "    border-radius: 50%;\n",
              "    cursor: pointer;\n",
              "    display: none;\n",
              "    fill: var(--fill-color);\n",
              "    height: 32px;\n",
              "    padding: 0;\n",
              "    width: 32px;\n",
              "  }\n",
              "\n",
              "  .colab-df-quickchart:hover {\n",
              "    background-color: var(--hover-bg-color);\n",
              "    box-shadow: 0 1px 2px rgba(60, 64, 67, 0.3), 0 1px 3px 1px rgba(60, 64, 67, 0.15);\n",
              "    fill: var(--button-hover-fill-color);\n",
              "  }\n",
              "\n",
              "  .colab-df-quickchart-complete:disabled,\n",
              "  .colab-df-quickchart-complete:disabled:hover {\n",
              "    background-color: var(--disabled-bg-color);\n",
              "    fill: var(--disabled-fill-color);\n",
              "    box-shadow: none;\n",
              "  }\n",
              "\n",
              "  .colab-df-spinner {\n",
              "    border: 2px solid var(--fill-color);\n",
              "    border-color: transparent;\n",
              "    border-bottom-color: var(--fill-color);\n",
              "    animation:\n",
              "      spin 1s steps(1) infinite;\n",
              "  }\n",
              "\n",
              "  @keyframes spin {\n",
              "    0% {\n",
              "      border-color: transparent;\n",
              "      border-bottom-color: var(--fill-color);\n",
              "      border-left-color: var(--fill-color);\n",
              "    }\n",
              "    20% {\n",
              "      border-color: transparent;\n",
              "      border-left-color: var(--fill-color);\n",
              "      border-top-color: var(--fill-color);\n",
              "    }\n",
              "    30% {\n",
              "      border-color: transparent;\n",
              "      border-left-color: var(--fill-color);\n",
              "      border-top-color: var(--fill-color);\n",
              "      border-right-color: var(--fill-color);\n",
              "    }\n",
              "    40% {\n",
              "      border-color: transparent;\n",
              "      border-right-color: var(--fill-color);\n",
              "      border-top-color: var(--fill-color);\n",
              "    }\n",
              "    60% {\n",
              "      border-color: transparent;\n",
              "      border-right-color: var(--fill-color);\n",
              "    }\n",
              "    80% {\n",
              "      border-color: transparent;\n",
              "      border-right-color: var(--fill-color);\n",
              "      border-bottom-color: var(--fill-color);\n",
              "    }\n",
              "    90% {\n",
              "      border-color: transparent;\n",
              "      border-bottom-color: var(--fill-color);\n",
              "    }\n",
              "  }\n",
              "</style>\n",
              "\n",
              "  <script>\n",
              "    async function quickchart(key) {\n",
              "      const quickchartButtonEl =\n",
              "        document.querySelector('#' + key + ' button');\n",
              "      quickchartButtonEl.disabled = true;  // To prevent multiple clicks.\n",
              "      quickchartButtonEl.classList.add('colab-df-spinner');\n",
              "      try {\n",
              "        const charts = await google.colab.kernel.invokeFunction(\n",
              "            'suggestCharts', [key], {});\n",
              "      } catch (error) {\n",
              "        console.error('Error during call to suggestCharts:', error);\n",
              "      }\n",
              "      quickchartButtonEl.classList.remove('colab-df-spinner');\n",
              "      quickchartButtonEl.classList.add('colab-df-quickchart-complete');\n",
              "    }\n",
              "    (() => {\n",
              "      let quickchartButtonEl =\n",
              "        document.querySelector('#df-d16749e9-6d13-4eef-a43f-1db6ea9372dc button');\n",
              "      quickchartButtonEl.style.display =\n",
              "        google.colab.kernel.accessAllowed ? 'block' : 'none';\n",
              "    })();\n",
              "  </script>\n",
              "</div>\n",
              "\n",
              "    </div>\n",
              "  </div>\n"
            ],
            "application/vnd.google.colaboratory.intrinsic+json": {
              "type": "dataframe",
              "summary": "{\n  \"name\": \"pd\",\n  \"rows\": 20,\n  \"fields\": [\n    {\n      \"column\": \"loss\",\n      \"properties\": {\n        \"dtype\": \"number\",\n        \"std\": 0.6574925201684526,\n        \"min\": 0.1333925724029541,\n        \"max\": 2.8037126064300537,\n        \"num_unique_values\": 20,\n        \"samples\": [\n          2.8037126064300537,\n          0.14977192878723145,\n          0.17117346823215485\n        ],\n        \"semantic_type\": \"\",\n        \"description\": \"\"\n      }\n    },\n    {\n      \"column\": \"accuracy\",\n      \"properties\": {\n        \"dtype\": \"number\",\n        \"std\": 0.11921590481445117,\n        \"min\": 0.5015034079551697,\n        \"max\": 0.9564018845558167,\n        \"num_unique_values\": 19,\n        \"samples\": [\n          0.5015034079551697,\n          0.853044331073761,\n          0.9404910802841187\n        ],\n        \"semantic_type\": \"\",\n        \"description\": \"\"\n      }\n    },\n    {\n      \"column\": \"val_loss\",\n      \"properties\": {\n        \"dtype\": \"number\",\n        \"std\": 0.2385796615585565,\n        \"min\": 0.8837627172470093,\n        \"max\": 1.8870471715927124,\n        \"num_unique_values\": 20,\n        \"samples\": [\n          1.8870471715927124,\n          0.9790546894073486,\n          0.9192469716072083\n        ],\n        \"semantic_type\": \"\",\n        \"description\": \"\"\n      }\n    },\n    {\n      \"column\": \"val_accuracy\",\n      \"properties\": {\n        \"dtype\": \"number\",\n        \"std\": 0.05312989982746259,\n        \"min\": 0.6050000190734863,\n        \"max\": 0.8209999799728394,\n        \"num_unique_values\": 17,\n        \"samples\": [\n          0.6050000190734863,\n          0.6890000104904175,\n          0.800000011920929\n        ],\n        \"semantic_type\": \"\",\n        \"description\": \"\"\n      }\n    }\n  ]\n}"
            }
          },
          "metadata": {},
          "execution_count": 46
        }
      ]
    },
    {
      "cell_type": "markdown",
      "source": [
        "###  PLotting Plots"
      ],
      "metadata": {
        "id": "hr8pKHtt7N6o"
      }
    },
    {
      "cell_type": "code",
      "source": [
        "import matplotlib.pyplot as plt"
      ],
      "metadata": {
        "id": "OfqOzEYJ7t-n"
      },
      "execution_count": 31,
      "outputs": []
    },
    {
      "cell_type": "code",
      "source": [
        "acc = history.history['accuracy']\n",
        "val_acc = history.history['val_accuracy']\n",
        "\n",
        "loss = history.history['loss']\n",
        "val_loss = history.history['val_loss']\n",
        "\n",
        "epochs = history.epoch"
      ],
      "metadata": {
        "id": "HKbm5my67v7Y"
      },
      "execution_count": 38,
      "outputs": []
    },
    {
      "cell_type": "code",
      "source": [
        "epochs"
      ],
      "metadata": {
        "colab": {
          "base_uri": "https://localhost:8080/"
        },
        "id": "8PTNEAY476YX",
        "outputId": "0d68a6b0-4782-4d06-a7f6-522760a2c823"
      },
      "execution_count": 40,
      "outputs": [
        {
          "output_type": "execute_result",
          "data": {
            "text/plain": [
              "[0, 1, 2, 3, 4, 5, 6, 7, 8, 9, 10, 11, 12, 13, 14, 15, 16, 17, 18, 19]"
            ]
          },
          "metadata": {},
          "execution_count": 40
        }
      ]
    },
    {
      "cell_type": "code",
      "source": [
        "plt.plot(epochs,acc,'bo',label='Train Acc')\n",
        "plt.plot(epochs,val_acc,label='Val Acc')\n",
        "plt.xlabel('Epochs')\n",
        "plt.ylabel('Accuracy')\n",
        "plt.legend()\n",
        "plt.title('Accuracy')\n",
        "plt.show()"
      ],
      "metadata": {
        "colab": {
          "base_uri": "https://localhost:8080/",
          "height": 472
        },
        "id": "UoHqHMpV7_6W",
        "outputId": "61ab4892-6ee7-4293-88d0-14aacfebdd4c"
      },
      "execution_count": 42,
      "outputs": [
        {
          "output_type": "display_data",
          "data": {
            "text/plain": [
              "<Figure size 640x480 with 1 Axes>"
            ],
            "image/png": "[encoded data removed]"
          },
          "metadata": {}
        }
      ]
    },
    {
      "cell_type": "code",
      "source": [
        "plt.plot(epochs,loss,'bo',label='Train Loss')\n",
        "plt.plot(epochs,val_loss,label='Val Loss')\n",
        "plt.xlabel('Epochs')\n",
        "plt.ylabel('Loss')\n",
        "plt.legend()\n",
        "plt.title('Loss')\n",
        "plt.show()"
      ],
      "metadata": {
        "colab": {
          "base_uri": "https://localhost:8080/",
          "height": 472
        },
        "id": "1rF25Kxi8iJW",
        "outputId": "1726756d-eac4-46bc-b09d-9c4e1e65258a"
      },
      "execution_count": 47,
      "outputs": [
        {
          "output_type": "display_data",
          "data": {
            "text/plain": [
              "<Figure size 640x480 with 1 Axes>"
            ],
            "image/png": "[encoded data removed]"
          },
          "metadata": {}
        }
      ]
    },
    {
      "cell_type": "code",
      "source": [
        "model = Sequential()\n",
        "model.add(Dense(64,activation='relu',input_shape=(10000,)))\n",
        "model.add(Dense(64,activation='relu'))\n",
        "model.add(Dense(46,activation='softmax'))\n",
        "\n",
        "model.compile(loss='categorical_crossentropy',optimizer='rmsprop',metrics=['accuracy'])\n",
        "\n",
        "\n",
        "\n",
        "history2 = model.fit(partial_x_train,partial_y_train,\n",
        "         epochs=8,batch_size=512,\n",
        "         validation_data=(x_val,y_val))"
      ],
      "metadata": {
        "colab": {
          "base_uri": "https://localhost:8080/"
        },
        "id": "kPfgkwn79Eil",
        "outputId": "bdc56b98-a69d-4c04-a225-fb6c25baf9d3"
      },
      "execution_count": 61,
      "outputs": [
        {
          "output_type": "stream",
          "name": "stdout",
          "text": [
            "Epoch 1/8\n",
            "16/16 [==============================] - 2s 88ms/step - loss: 2.7424 - accuracy: 0.4699 - val_loss: 1.8532 - val_accuracy: 0.5940\n",
            "Epoch 2/8\n",
            "16/16 [==============================] - 1s 58ms/step - loss: 1.5920 - accuracy: 0.6606 - val_loss: 1.4231 - val_accuracy: 0.6800\n",
            "Epoch 3/8\n",
            "16/16 [==============================] - 1s 58ms/step - loss: 1.2284 - accuracy: 0.7324 - val_loss: 1.2125 - val_accuracy: 0.7210\n",
            "Epoch 4/8\n",
            "16/16 [==============================] - 1s 57ms/step - loss: 1.0068 - accuracy: 0.7794 - val_loss: 1.0945 - val_accuracy: 0.7640\n",
            "Epoch 5/8\n",
            "16/16 [==============================] - 1s 56ms/step - loss: 0.8384 - accuracy: 0.8206 - val_loss: 1.0273 - val_accuracy: 0.7670\n",
            "Epoch 6/8\n",
            "16/16 [==============================] - 1s 57ms/step - loss: 0.7007 - accuracy: 0.8488 - val_loss: 0.9678 - val_accuracy: 0.7860\n",
            "Epoch 7/8\n",
            "16/16 [==============================] - 1s 54ms/step - loss: 0.5850 - accuracy: 0.8768 - val_loss: 0.9352 - val_accuracy: 0.7960\n",
            "Epoch 8/8\n",
            "16/16 [==============================] - 1s 56ms/step - loss: 0.4959 - accuracy: 0.8968 - val_loss: 0.8970 - val_accuracy: 0.8030\n"
          ]
        }
      ]
    },
    {
      "cell_type": "code",
      "source": [
        "acc = history2.history['accuracy']\n",
        "val_acc = history2.history['val_accuracy']\n",
        "\n",
        "loss = history2.history['loss']\n",
        "val_loss = history2.history['val_loss']\n",
        "\n",
        "epochs = history2.epoch"
      ],
      "metadata": {
        "id": "WZIIAjo89Zv8"
      },
      "execution_count": 62,
      "outputs": []
    },
    {
      "cell_type": "code",
      "source": [
        "plt.figure(figsize=(5,3))\n",
        "\n",
        "plt.plot(epochs,acc,'bo',label='Train Acc')\n",
        "plt.plot(epochs,val_acc,label='Val Acc')\n",
        "plt.xlabel('Epochs')\n",
        "plt.ylabel('Accuracy')\n",
        "plt.legend()\n",
        "plt.title('Accuracy')\n",
        "plt.show()"
      ],
      "metadata": {
        "colab": {
          "base_uri": "https://localhost:8080/",
          "height": 333
        },
        "id": "T9GzFZcA9riD",
        "outputId": "84e2e614-a893-463d-a02d-4a561d66d678"
      },
      "execution_count": 64,
      "outputs": [
        {
          "output_type": "display_data",
          "data": {
            "text/plain": [
              "<Figure size 500x300 with 1 Axes>"
            ],
            "image/png": "[encoded data removed]"
          },
          "metadata": {}
        }
      ]
    },
    {
      "cell_type": "code",
      "source": [
        "plt.figure(figsize=(5,3))\n",
        "plt.plot(epochs,loss,'bo',label='Train Loss')\n",
        "plt.plot(epochs,val_loss,label='Val Loss')\n",
        "plt.xlabel('Epochs')\n",
        "plt.ylabel('Loss')\n",
        "plt.legend()\n",
        "plt.title('Loss')\n",
        "plt.show()"
      ],
      "metadata": {
        "colab": {
          "base_uri": "https://localhost:8080/",
          "height": 333
        },
        "id": "OGXwitma96OT",
        "outputId": "84809100-aa95-45f8-ca03-d26ae37efa19"
      },
      "execution_count": 65,
      "outputs": [
        {
          "output_type": "display_data",
          "data": {
            "text/plain": [
              "<Figure size 500x300 with 1 Axes>"
            ],
            "image/png": "[encoded data removed]"
          },
          "metadata": {}
        }
      ]
    },
    {
      "cell_type": "code",
      "source": [],
      "metadata": {
        "id": "V9uZ9vWV-NbC"
      },
      "execution_count": null,
      "outputs": []
    },
    {
      "cell_type": "code",
      "source": [
        "results = model.evaluate(xts,one_hot_yts)"
      ],
      "metadata": {
        "colab": {
          "base_uri": "https://localhost:8080/"
        },
        "id": "PcfH0FnA-vLx",
        "outputId": "954bf54f-3294-4fce-ad49-19e77f3eaf30"
      },
      "execution_count": 67,
      "outputs": [
        {
          "output_type": "stream",
          "name": "stdout",
          "text": [
            "71/71 [==============================] - 0s 5ms/step - loss: 0.9791 - accuracy: 0.7716\n"
          ]
        }
      ]
    },
    {
      "cell_type": "code",
      "source": [
        "print('Test Accuracy = ',results[1]*100)\n",
        "print('Test Loss = ',results[0])"
      ],
      "metadata": {
        "colab": {
          "base_uri": "https://localhost:8080/"
        },
        "id": "hSsGxd5h-z5E",
        "outputId": "100e09df-594b-4dc0-f708-97f73a0909e7"
      },
      "execution_count": 70,
      "outputs": [
        {
          "output_type": "stream",
          "name": "stdout",
          "text": [
            "Test Accuracy =  77.15939283370972\n",
            "Test Loss =  0.9790645837783813\n"
          ]
        }
      ]
    },
    {
      "cell_type": "code",
      "source": [],
      "metadata": {
        "id": "xYDnQP8D-9mY"
      },
      "execution_count": 70,
      "outputs": []
    },
    {
      "cell_type": "code",
      "source": [],
      "metadata": {
        "id": "fPDMb29i_L5A"
      },
      "execution_count": null,
      "outputs": []
    },
    {
      "cell_type": "code",
      "source": [
        "import copy"
      ],
      "metadata": {
        "id": "NxDwynEZ_MP_"
      },
      "execution_count": 71,
      "outputs": []
    },
    {
      "cell_type": "code",
      "source": [
        "test_labels_copy = copy.copy(yts)"
      ],
      "metadata": {
        "id": "_ixAP5mB_Ms_"
      },
      "execution_count": 73,
      "outputs": []
    },
    {
      "cell_type": "code",
      "source": [
        "np.random.shuffle(test_labels_copy)"
      ],
      "metadata": {
        "id": "KFL6fwM4_T04"
      },
      "execution_count": 74,
      "outputs": []
    },
    {
      "cell_type": "code",
      "source": [
        "hits_array = np.array(yts) == np.array(test_labels_copy)"
      ],
      "metadata": {
        "id": "6jmzSxun_Wc1"
      },
      "execution_count": 75,
      "outputs": []
    },
    {
      "cell_type": "code",
      "source": [
        "float(np.sum(hits_array))/len(yts)"
      ],
      "metadata": {
        "colab": {
          "base_uri": "https://localhost:8080/"
        },
        "id": "rogPKC_j_jDA",
        "outputId": "c721779e-5c19-479b-a5e9-e68e2b5c5924"
      },
      "execution_count": 76,
      "outputs": [
        {
          "output_type": "execute_result",
          "data": {
            "text/plain": [
              "0.19946571682991987"
            ]
          },
          "metadata": {},
          "execution_count": 76
        }
      ]
    },
    {
      "cell_type": "code",
      "source": [],
      "metadata": {
        "id": "tg7dfQ5k_nMf"
      },
      "execution_count": null,
      "outputs": []
    },
    {
      "cell_type": "markdown",
      "source": [
        "### Generating prediction for new data"
      ],
      "metadata": {
        "id": "cfQL_H5Q_r6l"
      }
    },
    {
      "cell_type": "code",
      "source": [
        "predictions = model.predict(xts)"
      ],
      "metadata": {
        "colab": {
          "base_uri": "https://localhost:8080/"
        },
        "id": "uEpciF6k_y53",
        "outputId": "f30fbdca-7561-4349-bdd8-8cd0b23d6639"
      },
      "execution_count": 77,
      "outputs": [
        {
          "output_type": "stream",
          "name": "stdout",
          "text": [
            "71/71 [==============================] - 1s 8ms/step\n"
          ]
        }
      ]
    },
    {
      "cell_type": "code",
      "source": [
        "predictions.shape"
      ],
      "metadata": {
        "colab": {
          "base_uri": "https://localhost:8080/"
        },
        "id": "ASMLG0eB_5yX",
        "outputId": "1be31730-137b-4afd-c9d9-8a3351efd706"
      },
      "execution_count": 78,
      "outputs": [
        {
          "output_type": "execute_result",
          "data": {
            "text/plain": [
              "(2246, 46)"
            ]
          },
          "metadata": {},
          "execution_count": 78
        }
      ]
    },
    {
      "cell_type": "code",
      "source": [
        "predictions[0].shape"
      ],
      "metadata": {
        "colab": {
          "base_uri": "https://localhost:8080/"
        },
        "id": "4gbsb6gy_7Yo",
        "outputId": "bc043ac3-19e9-431a-a078-027b30e11817"
      },
      "execution_count": 79,
      "outputs": [
        {
          "output_type": "execute_result",
          "data": {
            "text/plain": [
              "(46,)"
            ]
          },
          "metadata": {},
          "execution_count": 79
        }
      ]
    },
    {
      "cell_type": "code",
      "source": [
        "np.sum(predictions[0])"
      ],
      "metadata": {
        "colab": {
          "base_uri": "https://localhost:8080/"
        },
        "id": "fcirHlIR_-Xf",
        "outputId": "1b09b078-1a5d-4710-d528-5961a1665bc7"
      },
      "execution_count": 80,
      "outputs": [
        {
          "output_type": "execute_result",
          "data": {
            "text/plain": [
              "0.99999994"
            ]
          },
          "metadata": {},
          "execution_count": 80
        }
      ]
    },
    {
      "cell_type": "code",
      "source": [
        "yts[0]"
      ],
      "metadata": {
        "colab": {
          "base_uri": "https://localhost:8080/"
        },
        "id": "gnZkM91LABkX",
        "outputId": "efab3256-6f69-446d-e6d9-faa4e17a615c"
      },
      "execution_count": 81,
      "outputs": [
        {
          "output_type": "execute_result",
          "data": {
            "text/plain": [
              "3"
            ]
          },
          "metadata": {},
          "execution_count": 81
        }
      ]
    },
    {
      "cell_type": "code",
      "source": [
        "np.argmax(predictions[0])"
      ],
      "metadata": {
        "colab": {
          "base_uri": "https://localhost:8080/"
        },
        "id": "3avHdSldAZ42",
        "outputId": "99eb4229-0946-4a99-879d-9cdec3b2a5ee"
      },
      "execution_count": 82,
      "outputs": [
        {
          "output_type": "execute_result",
          "data": {
            "text/plain": [
              "3"
            ]
          },
          "metadata": {},
          "execution_count": 82
        }
      ]
    },
    {
      "cell_type": "code",
      "source": [],
      "metadata": {
        "id": "glXSCpy6AdT1"
      },
      "execution_count": null,
      "outputs": []
    },
    {
      "cell_type": "markdown",
      "source": [
        "### A different way to handle the labels and the loss"
      ],
      "metadata": {
        "id": "J1gtTAFZAeL1"
      }
    },
    {
      "cell_type": "code",
      "source": [
        "y_train = np.array(ytr)\n",
        "y_test = np.array(yts)"
      ],
      "metadata": {
        "id": "sv4NW9-vAmt0"
      },
      "execution_count": 83,
      "outputs": []
    },
    {
      "cell_type": "code",
      "source": [
        "model.compile(optimizer='rmsprop',\n",
        "              loss='sparse_categorical_crossentropy',\n",
        "              metrics=['acc'])"
      ],
      "metadata": {
        "id": "m1nD48StAuUN"
      },
      "execution_count": 85,
      "outputs": []
    },
    {
      "cell_type": "code",
      "source": [
        "result3 = model.fit(xtr,y_train,epochs=20,batch_size=128,validation_split=0.2)"
      ],
      "metadata": {
        "colab": {
          "base_uri": "https://localhost:8080/"
        },
        "id": "3Sx27YOrA9A1",
        "outputId": "12675fb2-2069-464a-8a1a-49bcc7885b37"
      },
      "execution_count": 86,
      "outputs": [
        {
          "output_type": "stream",
          "name": "stdout",
          "text": [
            "Epoch 1/20\n",
            "57/57 [==============================] - 2s 32ms/step - loss: 0.4929 - acc: 0.8946 - val_loss: 0.4704 - val_acc: 0.8792\n",
            "Epoch 2/20\n",
            "57/57 [==============================] - 2s 27ms/step - loss: 0.3446 - acc: 0.9269 - val_loss: 0.4371 - val_acc: 0.8998\n",
            "Epoch 3/20\n",
            "57/57 [==============================] - 2s 34ms/step - loss: 0.2651 - acc: 0.9404 - val_loss: 0.4719 - val_acc: 0.8898\n",
            "Epoch 4/20\n",
            "57/57 [==============================] - 2s 31ms/step - loss: 0.2075 - acc: 0.9530 - val_loss: 0.5003 - val_acc: 0.8804\n",
            "Epoch 5/20\n",
            "57/57 [==============================] - 1s 21ms/step - loss: 0.1816 - acc: 0.9570 - val_loss: 0.4789 - val_acc: 0.8848\n",
            "Epoch 6/20\n",
            "57/57 [==============================] - 1s 21ms/step - loss: 0.1625 - acc: 0.9580 - val_loss: 0.5283 - val_acc: 0.8687\n",
            "Epoch 7/20\n",
            "57/57 [==============================] - 1s 22ms/step - loss: 0.1496 - acc: 0.9584 - val_loss: 0.5276 - val_acc: 0.8776\n",
            "Epoch 8/20\n",
            "57/57 [==============================] - 2s 29ms/step - loss: 0.1363 - acc: 0.9599 - val_loss: 0.5429 - val_acc: 0.8787\n",
            "Epoch 9/20\n",
            "57/57 [==============================] - 2s 30ms/step - loss: 0.1352 - acc: 0.9596 - val_loss: 0.5635 - val_acc: 0.8709\n",
            "Epoch 10/20\n",
            "57/57 [==============================] - 2s 31ms/step - loss: 0.1255 - acc: 0.9617 - val_loss: 0.5612 - val_acc: 0.8742\n",
            "Epoch 11/20\n",
            "57/57 [==============================] - 1s 25ms/step - loss: 0.1229 - acc: 0.9621 - val_loss: 0.5847 - val_acc: 0.8731\n",
            "Epoch 12/20\n",
            "57/57 [==============================] - 2s 33ms/step - loss: 0.1158 - acc: 0.9614 - val_loss: 0.6377 - val_acc: 0.8642\n",
            "Epoch 13/20\n",
            "57/57 [==============================] - 2s 39ms/step - loss: 0.1191 - acc: 0.9621 - val_loss: 0.6280 - val_acc: 0.8687\n",
            "Epoch 14/20\n",
            "57/57 [==============================] - 2s 27ms/step - loss: 0.1115 - acc: 0.9628 - val_loss: 0.6195 - val_acc: 0.8759\n",
            "Epoch 15/20\n",
            "57/57 [==============================] - 3s 45ms/step - loss: 0.1156 - acc: 0.9613 - val_loss: 0.6186 - val_acc: 0.8642\n",
            "Epoch 16/20\n",
            "57/57 [==============================] - 2s 43ms/step - loss: 0.1114 - acc: 0.9617 - val_loss: 0.6635 - val_acc: 0.8670\n",
            "Epoch 17/20\n",
            "57/57 [==============================] - 2s 40ms/step - loss: 0.1078 - acc: 0.9620 - val_loss: 0.6231 - val_acc: 0.8676\n",
            "Epoch 18/20\n",
            "57/57 [==============================] - 2s 28ms/step - loss: 0.1072 - acc: 0.9619 - val_loss: 0.6513 - val_acc: 0.8620\n",
            "Epoch 19/20\n",
            "57/57 [==============================] - 3s 48ms/step - loss: 0.1065 - acc: 0.9619 - val_loss: 0.6433 - val_acc: 0.8703\n",
            "Epoch 20/20\n",
            "57/57 [==============================] - 2s 42ms/step - loss: 0.1025 - acc: 0.9630 - val_loss: 0.6460 - val_acc: 0.8648\n"
          ]
        }
      ]
    },
    {
      "cell_type": "code",
      "source": [
        "acc = result3.history['acc']\n",
        "val_acc = result3.history['val_acc']\n",
        "\n",
        "loss = result3.history['loss']\n",
        "val_loss = result3.history['val_loss']\n",
        "\n",
        "epochs = result3.epoch"
      ],
      "metadata": {
        "id": "BB_JHJ80BETE"
      },
      "execution_count": 88,
      "outputs": []
    },
    {
      "cell_type": "code",
      "source": [
        "plt.figure(figsize=(5,3))\n",
        "\n",
        "plt.plot(epochs,acc,'bo',label='Train Acc')\n",
        "plt.plot(epochs,val_acc,label='Val Acc')\n",
        "plt.xlabel('Epochs')\n",
        "plt.ylabel('Accuracy')\n",
        "plt.legend()\n",
        "plt.title('Accuracy')\n",
        "plt.show()"
      ],
      "metadata": {
        "colab": {
          "base_uri": "https://localhost:8080/",
          "height": 333
        },
        "id": "AzYn7gEgBOTW",
        "outputId": "0bca4268-ad45-483c-8bdd-a3b457a930f2"
      },
      "execution_count": 89,
      "outputs": [
        {
          "output_type": "display_data",
          "data": {
            "text/plain": [
              "<Figure size 500x300 with 1 Axes>"
            ],
            "image/png": "[encoded data removed]"
          },
          "metadata": {}
        }
      ]
    },
    {
      "cell_type": "code",
      "source": [
        "plt.figure(figsize=(5,3))\n",
        "plt.plot(epochs,loss,'bo',label='Train Loss')\n",
        "plt.plot(epochs,val_loss,label='Val Loss')\n",
        "plt.xlabel('Epochs')\n",
        "plt.ylabel('Loss')\n",
        "plt.legend()\n",
        "plt.title('Loss')\n",
        "plt.show()"
      ],
      "metadata": {
        "colab": {
          "base_uri": "https://localhost:8080/",
          "height": 333
        },
        "id": "ANDV33eZBSj6",
        "outputId": "14f7bf79-3439-4eae-f104-d7ca2d7abf80"
      },
      "execution_count": 90,
      "outputs": [
        {
          "output_type": "display_data",
          "data": {
            "text/plain": [
              "<Figure size 500x300 with 1 Axes>"
            ],
            "image/png": "[encoded data removed]"
          },
          "metadata": {}
        }
      ]
    },
    {
      "cell_type": "code",
      "source": [],
      "metadata": {
        "id": "hL71NkzKBWtc"
      },
      "execution_count": 90,
      "outputs": []
    },
    {
      "cell_type": "code",
      "source": [],
      "metadata": {
        "id": "WLUz__gFBaL0"
      },
      "execution_count": 90,
      "outputs": []
    }
  ]
}